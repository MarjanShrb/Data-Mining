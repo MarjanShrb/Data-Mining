{
  "nbformat": 4,
  "nbformat_minor": 0,
  "metadata": {
    "colab": {
      "provenance": []
    },
    "kernelspec": {
      "name": "python3",
      "display_name": "Python 3"
    },
    "language_info": {
      "name": "python"
    }
  },
  "cells": [
    {
      "cell_type": "markdown",
      "source": [
        "پروژه داده کاوی\n",
        "\n",
        "مرجان سهرابی"
      ],
      "metadata": {
        "id": "te0l84wbiCKI"
      }
    },
    {
      "cell_type": "code",
      "execution_count": 92,
      "metadata": {
        "id": "2YuPzokTiBBp"
      },
      "outputs": [],
      "source": [
        "# Import Libraries\n",
        "import pandas as pd\n",
        "import numpy as np\n",
        "import matplotlib.pyplot as plt\n",
        "import seaborn as sns\n",
        "from sklearn.model_selection import train_test_split, GridSearchCV\n",
        "from sklearn.preprocessing import StandardScaler\n",
        "from sklearn.metrics import accuracy_score, confusion_matrix, classification_report\n",
        "from sklearn.tree import DecisionTreeClassifier\n",
        "from sklearn.ensemble import RandomForestClassifier\n",
        "from sklearn.svm import SVC\n",
        "from sklearn.linear_model import LogisticRegression\n",
        "from sklearn.neighbors import KNeighborsClassifier\n",
        "from sklearn.preprocessing import LabelEncoder\n",
        "from sklearn.metrics import roc_curve, auc"
      ]
    },
    {
      "cell_type": "markdown",
      "source": [
        "\n",
        "\n",
        "1.   فراخوانی داده‌ها\n"
      ],
      "metadata": {
        "id": "1K0RwpP52TT7"
      }
    },
    {
      "cell_type": "code",
      "source": [
        "# Read data\n",
        "from google.colab import files\n",
        "uploaded = files.upload()\n",
        "data = pd.read_csv(\"heartDisease.csv\")"
      ],
      "metadata": {
        "id": "Ys_0qlP1tzKH",
        "colab": {
          "base_uri": "https://localhost:8080/",
          "height": 73
        },
        "outputId": "c2573c90-2d78-45b3-ef2c-0c6dd0c45c5e"
      },
      "execution_count": 48,
      "outputs": [
        {
          "output_type": "display_data",
          "data": {
            "text/plain": [
              "<IPython.core.display.HTML object>"
            ],
            "text/html": [
              "\n",
              "     <input type=\"file\" id=\"files-1969875d-a5ba-4d41-bbbd-aec171b14c32\" name=\"files[]\" multiple disabled\n",
              "        style=\"border:none\" />\n",
              "     <output id=\"result-1969875d-a5ba-4d41-bbbd-aec171b14c32\">\n",
              "      Upload widget is only available when the cell has been executed in the\n",
              "      current browser session. Please rerun this cell to enable.\n",
              "      </output>\n",
              "      <script>// Copyright 2017 Google LLC\n",
              "//\n",
              "// Licensed under the Apache License, Version 2.0 (the \"License\");\n",
              "// you may not use this file except in compliance with the License.\n",
              "// You may obtain a copy of the License at\n",
              "//\n",
              "//      http://www.apache.org/licenses/LICENSE-2.0\n",
              "//\n",
              "// Unless required by applicable law or agreed to in writing, software\n",
              "// distributed under the License is distributed on an \"AS IS\" BASIS,\n",
              "// WITHOUT WARRANTIES OR CONDITIONS OF ANY KIND, either express or implied.\n",
              "// See the License for the specific language governing permissions and\n",
              "// limitations under the License.\n",
              "\n",
              "/**\n",
              " * @fileoverview Helpers for google.colab Python module.\n",
              " */\n",
              "(function(scope) {\n",
              "function span(text, styleAttributes = {}) {\n",
              "  const element = document.createElement('span');\n",
              "  element.textContent = text;\n",
              "  for (const key of Object.keys(styleAttributes)) {\n",
              "    element.style[key] = styleAttributes[key];\n",
              "  }\n",
              "  return element;\n",
              "}\n",
              "\n",
              "// Max number of bytes which will be uploaded at a time.\n",
              "const MAX_PAYLOAD_SIZE = 100 * 1024;\n",
              "\n",
              "function _uploadFiles(inputId, outputId) {\n",
              "  const steps = uploadFilesStep(inputId, outputId);\n",
              "  const outputElement = document.getElementById(outputId);\n",
              "  // Cache steps on the outputElement to make it available for the next call\n",
              "  // to uploadFilesContinue from Python.\n",
              "  outputElement.steps = steps;\n",
              "\n",
              "  return _uploadFilesContinue(outputId);\n",
              "}\n",
              "\n",
              "// This is roughly an async generator (not supported in the browser yet),\n",
              "// where there are multiple asynchronous steps and the Python side is going\n",
              "// to poll for completion of each step.\n",
              "// This uses a Promise to block the python side on completion of each step,\n",
              "// then passes the result of the previous step as the input to the next step.\n",
              "function _uploadFilesContinue(outputId) {\n",
              "  const outputElement = document.getElementById(outputId);\n",
              "  const steps = outputElement.steps;\n",
              "\n",
              "  const next = steps.next(outputElement.lastPromiseValue);\n",
              "  return Promise.resolve(next.value.promise).then((value) => {\n",
              "    // Cache the last promise value to make it available to the next\n",
              "    // step of the generator.\n",
              "    outputElement.lastPromiseValue = value;\n",
              "    return next.value.response;\n",
              "  });\n",
              "}\n",
              "\n",
              "/**\n",
              " * Generator function which is called between each async step of the upload\n",
              " * process.\n",
              " * @param {string} inputId Element ID of the input file picker element.\n",
              " * @param {string} outputId Element ID of the output display.\n",
              " * @return {!Iterable<!Object>} Iterable of next steps.\n",
              " */\n",
              "function* uploadFilesStep(inputId, outputId) {\n",
              "  const inputElement = document.getElementById(inputId);\n",
              "  inputElement.disabled = false;\n",
              "\n",
              "  const outputElement = document.getElementById(outputId);\n",
              "  outputElement.innerHTML = '';\n",
              "\n",
              "  const pickedPromise = new Promise((resolve) => {\n",
              "    inputElement.addEventListener('change', (e) => {\n",
              "      resolve(e.target.files);\n",
              "    });\n",
              "  });\n",
              "\n",
              "  const cancel = document.createElement('button');\n",
              "  inputElement.parentElement.appendChild(cancel);\n",
              "  cancel.textContent = 'Cancel upload';\n",
              "  const cancelPromise = new Promise((resolve) => {\n",
              "    cancel.onclick = () => {\n",
              "      resolve(null);\n",
              "    };\n",
              "  });\n",
              "\n",
              "  // Wait for the user to pick the files.\n",
              "  const files = yield {\n",
              "    promise: Promise.race([pickedPromise, cancelPromise]),\n",
              "    response: {\n",
              "      action: 'starting',\n",
              "    }\n",
              "  };\n",
              "\n",
              "  cancel.remove();\n",
              "\n",
              "  // Disable the input element since further picks are not allowed.\n",
              "  inputElement.disabled = true;\n",
              "\n",
              "  if (!files) {\n",
              "    return {\n",
              "      response: {\n",
              "        action: 'complete',\n",
              "      }\n",
              "    };\n",
              "  }\n",
              "\n",
              "  for (const file of files) {\n",
              "    const li = document.createElement('li');\n",
              "    li.append(span(file.name, {fontWeight: 'bold'}));\n",
              "    li.append(span(\n",
              "        `(${file.type || 'n/a'}) - ${file.size} bytes, ` +\n",
              "        `last modified: ${\n",
              "            file.lastModifiedDate ? file.lastModifiedDate.toLocaleDateString() :\n",
              "                                    'n/a'} - `));\n",
              "    const percent = span('0% done');\n",
              "    li.appendChild(percent);\n",
              "\n",
              "    outputElement.appendChild(li);\n",
              "\n",
              "    const fileDataPromise = new Promise((resolve) => {\n",
              "      const reader = new FileReader();\n",
              "      reader.onload = (e) => {\n",
              "        resolve(e.target.result);\n",
              "      };\n",
              "      reader.readAsArrayBuffer(file);\n",
              "    });\n",
              "    // Wait for the data to be ready.\n",
              "    let fileData = yield {\n",
              "      promise: fileDataPromise,\n",
              "      response: {\n",
              "        action: 'continue',\n",
              "      }\n",
              "    };\n",
              "\n",
              "    // Use a chunked sending to avoid message size limits. See b/62115660.\n",
              "    let position = 0;\n",
              "    do {\n",
              "      const length = Math.min(fileData.byteLength - position, MAX_PAYLOAD_SIZE);\n",
              "      const chunk = new Uint8Array(fileData, position, length);\n",
              "      position += length;\n",
              "\n",
              "      const base64 = btoa(String.fromCharCode.apply(null, chunk));\n",
              "      yield {\n",
              "        response: {\n",
              "          action: 'append',\n",
              "          file: file.name,\n",
              "          data: base64,\n",
              "        },\n",
              "      };\n",
              "\n",
              "      let percentDone = fileData.byteLength === 0 ?\n",
              "          100 :\n",
              "          Math.round((position / fileData.byteLength) * 100);\n",
              "      percent.textContent = `${percentDone}% done`;\n",
              "\n",
              "    } while (position < fileData.byteLength);\n",
              "  }\n",
              "\n",
              "  // All done.\n",
              "  yield {\n",
              "    response: {\n",
              "      action: 'complete',\n",
              "    }\n",
              "  };\n",
              "}\n",
              "\n",
              "scope.google = scope.google || {};\n",
              "scope.google.colab = scope.google.colab || {};\n",
              "scope.google.colab._files = {\n",
              "  _uploadFiles,\n",
              "  _uploadFilesContinue,\n",
              "};\n",
              "})(self);\n",
              "</script> "
            ]
          },
          "metadata": {}
        },
        {
          "output_type": "stream",
          "name": "stdout",
          "text": [
            "Saving heartDisease.csv to heartDisease (4).csv\n"
          ]
        }
      ]
    },
    {
      "cell_type": "markdown",
      "source": [
        "2. تعداد مشاهدات و تعداد متغیرها"
      ],
      "metadata": {
        "id": "lNOp3HyD2sk-"
      }
    },
    {
      "cell_type": "code",
      "source": [
        "# Get the number of rows and columns\n",
        "num_rows, num_columns = data.shape\n",
        "\n",
        "print(f'Number of observations (rows): {num_rows}')\n",
        "print(f'Number of variables (columns): {num_columns}')"
      ],
      "metadata": {
        "colab": {
          "base_uri": "https://localhost:8080/"
        },
        "id": "E4vsSqIS3Meh",
        "outputId": "c70cd946-ed1f-456b-e267-0bda0d312597"
      },
      "execution_count": 49,
      "outputs": [
        {
          "output_type": "stream",
          "name": "stdout",
          "text": [
            "Number of observations (rows): 982\n",
            "Number of variables (columns): 11\n"
          ]
        }
      ]
    },
    {
      "cell_type": "markdown",
      "source": [
        "در این فایل داده تعداد 982 مشاهده و 10 متغیر وجود دارد. (یک ستون آیدی مشاهدات است که جزو متغیرها حساب نمی‌شود.)"
      ],
      "metadata": {
        "id": "aT1RXLYn4XKC"
      }
    },
    {
      "cell_type": "markdown",
      "source": [
        "3. بررسی وجود مشاهدات تکراری"
      ],
      "metadata": {
        "id": "va0CE-8Q4xl5"
      }
    },
    {
      "cell_type": "code",
      "source": [
        "# Check for duplicates\n",
        "duplicated_rows = data.duplicated()\n",
        "\n",
        "# Print out the duplicated rows\n",
        "print(f'Number of duplicated rows: {duplicated_rows.sum()}')\n",
        "print('Duplicated rows:')\n",
        "print(data[duplicated_rows])\n"
      ],
      "metadata": {
        "colab": {
          "base_uri": "https://localhost:8080/"
        },
        "id": "AWJGXDZ15kiC",
        "outputId": "e904ed12-119f-4e32-b371-a869a7f8f82b"
      },
      "execution_count": 50,
      "outputs": [
        {
          "output_type": "stream",
          "name": "stdout",
          "text": [
            "Number of duplicated rows: 0\n",
            "Duplicated rows:\n",
            "Empty DataFrame\n",
            "Columns: [Unnamed: 0, Age, Sex, RestingBP, Cholesterol, FastingBS, RestingECG, MaxHR, Angina, HeartPeakReading, HeartDisease]\n",
            "Index: []\n"
          ]
        }
      ]
    },
    {
      "cell_type": "markdown",
      "source": [
        "4. بررسی متناسب بودن جنس متغیرها"
      ],
      "metadata": {
        "id": "MwLdyODd6usp"
      }
    },
    {
      "cell_type": "code",
      "source": [
        "# Display first few rows\n",
        "data.head(10)"
      ],
      "metadata": {
        "colab": {
          "base_uri": "https://localhost:8080/",
          "height": 363
        },
        "id": "F4M_ZtsCwnVy",
        "outputId": "5808e450-ebd6-4881-9675-65e4af2a1a6a"
      },
      "execution_count": 77,
      "outputs": [
        {
          "output_type": "execute_result",
          "data": {
            "text/plain": [
              "         Age  Sex   RestingBP  Cholesterol  FastingBS  RestingECG       MaxHR  \\\n",
              "0  40.000000    1  140.000000          289          0           1  172.000000   \n",
              "1  49.000000    0  132.112102          180          0           1  156.000000   \n",
              "2  37.000000    1  130.000000          283          0           1   98.000000   \n",
              "3  53.559259    0  138.000000          214          0           1  108.000000   \n",
              "4  54.000000    1  132.112102          195          0           1  122.000000   \n",
              "5  39.000000    1  120.000000          339          0           1  170.000000   \n",
              "6  45.000000    0  130.000000          237          0           1  170.000000   \n",
              "7  54.000000    1  110.000000          208          0           1  137.053597   \n",
              "8  37.000000    1  140.000000          207          0           1  130.000000   \n",
              "9  48.000000    0  120.000000          284          0           1  120.000000   \n",
              "\n",
              "   Angina  HeartPeakReading  HeartDisease  \n",
              "0       0               0.0             0  \n",
              "1       0               1.0             1  \n",
              "2       0               0.0             0  \n",
              "3       1               1.5             1  \n",
              "4       0               0.0             0  \n",
              "5       0               0.0             0  \n",
              "6       0               0.0             0  \n",
              "7       0               0.0             0  \n",
              "8       1               1.5             1  \n",
              "9       0               0.0             0  "
            ],
            "text/html": [
              "\n",
              "  <div id=\"df-e3872147-b399-4202-81a3-b5ed8a202f47\" class=\"colab-df-container\">\n",
              "    <div>\n",
              "<style scoped>\n",
              "    .dataframe tbody tr th:only-of-type {\n",
              "        vertical-align: middle;\n",
              "    }\n",
              "\n",
              "    .dataframe tbody tr th {\n",
              "        vertical-align: top;\n",
              "    }\n",
              "\n",
              "    .dataframe thead th {\n",
              "        text-align: right;\n",
              "    }\n",
              "</style>\n",
              "<table border=\"1\" class=\"dataframe\">\n",
              "  <thead>\n",
              "    <tr style=\"text-align: right;\">\n",
              "      <th></th>\n",
              "      <th>Age</th>\n",
              "      <th>Sex</th>\n",
              "      <th>RestingBP</th>\n",
              "      <th>Cholesterol</th>\n",
              "      <th>FastingBS</th>\n",
              "      <th>RestingECG</th>\n",
              "      <th>MaxHR</th>\n",
              "      <th>Angina</th>\n",
              "      <th>HeartPeakReading</th>\n",
              "      <th>HeartDisease</th>\n",
              "    </tr>\n",
              "  </thead>\n",
              "  <tbody>\n",
              "    <tr>\n",
              "      <th>0</th>\n",
              "      <td>40.000000</td>\n",
              "      <td>1</td>\n",
              "      <td>140.000000</td>\n",
              "      <td>289</td>\n",
              "      <td>0</td>\n",
              "      <td>1</td>\n",
              "      <td>172.000000</td>\n",
              "      <td>0</td>\n",
              "      <td>0.0</td>\n",
              "      <td>0</td>\n",
              "    </tr>\n",
              "    <tr>\n",
              "      <th>1</th>\n",
              "      <td>49.000000</td>\n",
              "      <td>0</td>\n",
              "      <td>132.112102</td>\n",
              "      <td>180</td>\n",
              "      <td>0</td>\n",
              "      <td>1</td>\n",
              "      <td>156.000000</td>\n",
              "      <td>0</td>\n",
              "      <td>1.0</td>\n",
              "      <td>1</td>\n",
              "    </tr>\n",
              "    <tr>\n",
              "      <th>2</th>\n",
              "      <td>37.000000</td>\n",
              "      <td>1</td>\n",
              "      <td>130.000000</td>\n",
              "      <td>283</td>\n",
              "      <td>0</td>\n",
              "      <td>1</td>\n",
              "      <td>98.000000</td>\n",
              "      <td>0</td>\n",
              "      <td>0.0</td>\n",
              "      <td>0</td>\n",
              "    </tr>\n",
              "    <tr>\n",
              "      <th>3</th>\n",
              "      <td>53.559259</td>\n",
              "      <td>0</td>\n",
              "      <td>138.000000</td>\n",
              "      <td>214</td>\n",
              "      <td>0</td>\n",
              "      <td>1</td>\n",
              "      <td>108.000000</td>\n",
              "      <td>1</td>\n",
              "      <td>1.5</td>\n",
              "      <td>1</td>\n",
              "    </tr>\n",
              "    <tr>\n",
              "      <th>4</th>\n",
              "      <td>54.000000</td>\n",
              "      <td>1</td>\n",
              "      <td>132.112102</td>\n",
              "      <td>195</td>\n",
              "      <td>0</td>\n",
              "      <td>1</td>\n",
              "      <td>122.000000</td>\n",
              "      <td>0</td>\n",
              "      <td>0.0</td>\n",
              "      <td>0</td>\n",
              "    </tr>\n",
              "    <tr>\n",
              "      <th>5</th>\n",
              "      <td>39.000000</td>\n",
              "      <td>1</td>\n",
              "      <td>120.000000</td>\n",
              "      <td>339</td>\n",
              "      <td>0</td>\n",
              "      <td>1</td>\n",
              "      <td>170.000000</td>\n",
              "      <td>0</td>\n",
              "      <td>0.0</td>\n",
              "      <td>0</td>\n",
              "    </tr>\n",
              "    <tr>\n",
              "      <th>6</th>\n",
              "      <td>45.000000</td>\n",
              "      <td>0</td>\n",
              "      <td>130.000000</td>\n",
              "      <td>237</td>\n",
              "      <td>0</td>\n",
              "      <td>1</td>\n",
              "      <td>170.000000</td>\n",
              "      <td>0</td>\n",
              "      <td>0.0</td>\n",
              "      <td>0</td>\n",
              "    </tr>\n",
              "    <tr>\n",
              "      <th>7</th>\n",
              "      <td>54.000000</td>\n",
              "      <td>1</td>\n",
              "      <td>110.000000</td>\n",
              "      <td>208</td>\n",
              "      <td>0</td>\n",
              "      <td>1</td>\n",
              "      <td>137.053597</td>\n",
              "      <td>0</td>\n",
              "      <td>0.0</td>\n",
              "      <td>0</td>\n",
              "    </tr>\n",
              "    <tr>\n",
              "      <th>8</th>\n",
              "      <td>37.000000</td>\n",
              "      <td>1</td>\n",
              "      <td>140.000000</td>\n",
              "      <td>207</td>\n",
              "      <td>0</td>\n",
              "      <td>1</td>\n",
              "      <td>130.000000</td>\n",
              "      <td>1</td>\n",
              "      <td>1.5</td>\n",
              "      <td>1</td>\n",
              "    </tr>\n",
              "    <tr>\n",
              "      <th>9</th>\n",
              "      <td>48.000000</td>\n",
              "      <td>0</td>\n",
              "      <td>120.000000</td>\n",
              "      <td>284</td>\n",
              "      <td>0</td>\n",
              "      <td>1</td>\n",
              "      <td>120.000000</td>\n",
              "      <td>0</td>\n",
              "      <td>0.0</td>\n",
              "      <td>0</td>\n",
              "    </tr>\n",
              "  </tbody>\n",
              "</table>\n",
              "</div>\n",
              "    <div class=\"colab-df-buttons\">\n",
              "\n",
              "  <div class=\"colab-df-container\">\n",
              "    <button class=\"colab-df-convert\" onclick=\"convertToInteractive('df-e3872147-b399-4202-81a3-b5ed8a202f47')\"\n",
              "            title=\"Convert this dataframe to an interactive table.\"\n",
              "            style=\"display:none;\">\n",
              "\n",
              "  <svg xmlns=\"http://www.w3.org/2000/svg\" height=\"24px\" viewBox=\"0 -960 960 960\">\n",
              "    <path d=\"M120-120v-720h720v720H120Zm60-500h600v-160H180v160Zm220 220h160v-160H400v160Zm0 220h160v-160H400v160ZM180-400h160v-160H180v160Zm440 0h160v-160H620v160ZM180-180h160v-160H180v160Zm440 0h160v-160H620v160Z\"/>\n",
              "  </svg>\n",
              "    </button>\n",
              "\n",
              "  <style>\n",
              "    .colab-df-container {\n",
              "      display:flex;\n",
              "      gap: 12px;\n",
              "    }\n",
              "\n",
              "    .colab-df-convert {\n",
              "      background-color: #E8F0FE;\n",
              "      border: none;\n",
              "      border-radius: 50%;\n",
              "      cursor: pointer;\n",
              "      display: none;\n",
              "      fill: #1967D2;\n",
              "      height: 32px;\n",
              "      padding: 0 0 0 0;\n",
              "      width: 32px;\n",
              "    }\n",
              "\n",
              "    .colab-df-convert:hover {\n",
              "      background-color: #E2EBFA;\n",
              "      box-shadow: 0px 1px 2px rgba(60, 64, 67, 0.3), 0px 1px 3px 1px rgba(60, 64, 67, 0.15);\n",
              "      fill: #174EA6;\n",
              "    }\n",
              "\n",
              "    .colab-df-buttons div {\n",
              "      margin-bottom: 4px;\n",
              "    }\n",
              "\n",
              "    [theme=dark] .colab-df-convert {\n",
              "      background-color: #3B4455;\n",
              "      fill: #D2E3FC;\n",
              "    }\n",
              "\n",
              "    [theme=dark] .colab-df-convert:hover {\n",
              "      background-color: #434B5C;\n",
              "      box-shadow: 0px 1px 3px 1px rgba(0, 0, 0, 0.15);\n",
              "      filter: drop-shadow(0px 1px 2px rgba(0, 0, 0, 0.3));\n",
              "      fill: #FFFFFF;\n",
              "    }\n",
              "  </style>\n",
              "\n",
              "    <script>\n",
              "      const buttonEl =\n",
              "        document.querySelector('#df-e3872147-b399-4202-81a3-b5ed8a202f47 button.colab-df-convert');\n",
              "      buttonEl.style.display =\n",
              "        google.colab.kernel.accessAllowed ? 'block' : 'none';\n",
              "\n",
              "      async function convertToInteractive(key) {\n",
              "        const element = document.querySelector('#df-e3872147-b399-4202-81a3-b5ed8a202f47');\n",
              "        const dataTable =\n",
              "          await google.colab.kernel.invokeFunction('convertToInteractive',\n",
              "                                                    [key], {});\n",
              "        if (!dataTable) return;\n",
              "\n",
              "        const docLinkHtml = 'Like what you see? Visit the ' +\n",
              "          '<a target=\"_blank\" href=https://colab.research.google.com/notebooks/data_table.ipynb>data table notebook</a>'\n",
              "          + ' to learn more about interactive tables.';\n",
              "        element.innerHTML = '';\n",
              "        dataTable['output_type'] = 'display_data';\n",
              "        await google.colab.output.renderOutput(dataTable, element);\n",
              "        const docLink = document.createElement('div');\n",
              "        docLink.innerHTML = docLinkHtml;\n",
              "        element.appendChild(docLink);\n",
              "      }\n",
              "    </script>\n",
              "  </div>\n",
              "\n",
              "\n",
              "<div id=\"df-80a8c48a-07cb-4696-bd9f-c2223db37634\">\n",
              "  <button class=\"colab-df-quickchart\" onclick=\"quickchart('df-80a8c48a-07cb-4696-bd9f-c2223db37634')\"\n",
              "            title=\"Suggest charts\"\n",
              "            style=\"display:none;\">\n",
              "\n",
              "<svg xmlns=\"http://www.w3.org/2000/svg\" height=\"24px\"viewBox=\"0 0 24 24\"\n",
              "     width=\"24px\">\n",
              "    <g>\n",
              "        <path d=\"M19 3H5c-1.1 0-2 .9-2 2v14c0 1.1.9 2 2 2h14c1.1 0 2-.9 2-2V5c0-1.1-.9-2-2-2zM9 17H7v-7h2v7zm4 0h-2V7h2v10zm4 0h-2v-4h2v4z\"/>\n",
              "    </g>\n",
              "</svg>\n",
              "  </button>\n",
              "\n",
              "<style>\n",
              "  .colab-df-quickchart {\n",
              "      --bg-color: #E8F0FE;\n",
              "      --fill-color: #1967D2;\n",
              "      --hover-bg-color: #E2EBFA;\n",
              "      --hover-fill-color: #174EA6;\n",
              "      --disabled-fill-color: #AAA;\n",
              "      --disabled-bg-color: #DDD;\n",
              "  }\n",
              "\n",
              "  [theme=dark] .colab-df-quickchart {\n",
              "      --bg-color: #3B4455;\n",
              "      --fill-color: #D2E3FC;\n",
              "      --hover-bg-color: #434B5C;\n",
              "      --hover-fill-color: #FFFFFF;\n",
              "      --disabled-bg-color: #3B4455;\n",
              "      --disabled-fill-color: #666;\n",
              "  }\n",
              "\n",
              "  .colab-df-quickchart {\n",
              "    background-color: var(--bg-color);\n",
              "    border: none;\n",
              "    border-radius: 50%;\n",
              "    cursor: pointer;\n",
              "    display: none;\n",
              "    fill: var(--fill-color);\n",
              "    height: 32px;\n",
              "    padding: 0;\n",
              "    width: 32px;\n",
              "  }\n",
              "\n",
              "  .colab-df-quickchart:hover {\n",
              "    background-color: var(--hover-bg-color);\n",
              "    box-shadow: 0 1px 2px rgba(60, 64, 67, 0.3), 0 1px 3px 1px rgba(60, 64, 67, 0.15);\n",
              "    fill: var(--button-hover-fill-color);\n",
              "  }\n",
              "\n",
              "  .colab-df-quickchart-complete:disabled,\n",
              "  .colab-df-quickchart-complete:disabled:hover {\n",
              "    background-color: var(--disabled-bg-color);\n",
              "    fill: var(--disabled-fill-color);\n",
              "    box-shadow: none;\n",
              "  }\n",
              "\n",
              "  .colab-df-spinner {\n",
              "    border: 2px solid var(--fill-color);\n",
              "    border-color: transparent;\n",
              "    border-bottom-color: var(--fill-color);\n",
              "    animation:\n",
              "      spin 1s steps(1) infinite;\n",
              "  }\n",
              "\n",
              "  @keyframes spin {\n",
              "    0% {\n",
              "      border-color: transparent;\n",
              "      border-bottom-color: var(--fill-color);\n",
              "      border-left-color: var(--fill-color);\n",
              "    }\n",
              "    20% {\n",
              "      border-color: transparent;\n",
              "      border-left-color: var(--fill-color);\n",
              "      border-top-color: var(--fill-color);\n",
              "    }\n",
              "    30% {\n",
              "      border-color: transparent;\n",
              "      border-left-color: var(--fill-color);\n",
              "      border-top-color: var(--fill-color);\n",
              "      border-right-color: var(--fill-color);\n",
              "    }\n",
              "    40% {\n",
              "      border-color: transparent;\n",
              "      border-right-color: var(--fill-color);\n",
              "      border-top-color: var(--fill-color);\n",
              "    }\n",
              "    60% {\n",
              "      border-color: transparent;\n",
              "      border-right-color: var(--fill-color);\n",
              "    }\n",
              "    80% {\n",
              "      border-color: transparent;\n",
              "      border-right-color: var(--fill-color);\n",
              "      border-bottom-color: var(--fill-color);\n",
              "    }\n",
              "    90% {\n",
              "      border-color: transparent;\n",
              "      border-bottom-color: var(--fill-color);\n",
              "    }\n",
              "  }\n",
              "</style>\n",
              "\n",
              "  <script>\n",
              "    async function quickchart(key) {\n",
              "      const quickchartButtonEl =\n",
              "        document.querySelector('#' + key + ' button');\n",
              "      quickchartButtonEl.disabled = true;  // To prevent multiple clicks.\n",
              "      quickchartButtonEl.classList.add('colab-df-spinner');\n",
              "      try {\n",
              "        const charts = await google.colab.kernel.invokeFunction(\n",
              "            'suggestCharts', [key], {});\n",
              "      } catch (error) {\n",
              "        console.error('Error during call to suggestCharts:', error);\n",
              "      }\n",
              "      quickchartButtonEl.classList.remove('colab-df-spinner');\n",
              "      quickchartButtonEl.classList.add('colab-df-quickchart-complete');\n",
              "    }\n",
              "    (() => {\n",
              "      let quickchartButtonEl =\n",
              "        document.querySelector('#df-80a8c48a-07cb-4696-bd9f-c2223db37634 button');\n",
              "      quickchartButtonEl.style.display =\n",
              "        google.colab.kernel.accessAllowed ? 'block' : 'none';\n",
              "    })();\n",
              "  </script>\n",
              "</div>\n",
              "    </div>\n",
              "  </div>\n"
            ],
            "application/vnd.google.colaboratory.intrinsic+json": {
              "type": "dataframe",
              "variable_name": "data",
              "summary": "{\n  \"name\": \"data\",\n  \"rows\": 841,\n  \"fields\": [\n    {\n      \"column\": \"Age\",\n      \"properties\": {\n        \"dtype\": \"number\",\n        \"std\": 9.26229270416165,\n        \"min\": 28.0,\n        \"max\": 77.0,\n        \"num_unique_values\": 50,\n        \"samples\": [\n          53.0,\n          68.0,\n          59.0\n        ],\n        \"semantic_type\": \"\",\n        \"description\": \"\"\n      }\n    },\n    {\n      \"column\": \"Sex\",\n      \"properties\": {\n        \"dtype\": \"number\",\n        \"std\": 0,\n        \"min\": 0,\n        \"max\": 1,\n        \"num_unique_values\": 2,\n        \"samples\": [\n          0,\n          1\n        ],\n        \"semantic_type\": \"\",\n        \"description\": \"\"\n      }\n    },\n    {\n      \"column\": \"RestingBP\",\n      \"properties\": {\n        \"dtype\": \"number\",\n        \"std\": 17.705330614839433,\n        \"min\": 0.0,\n        \"max\": 200.0,\n        \"num_unique_values\": 65,\n        \"samples\": [\n          152.0,\n          117.0\n        ],\n        \"semantic_type\": \"\",\n        \"description\": \"\"\n      }\n    },\n    {\n      \"column\": \"Cholesterol\",\n      \"properties\": {\n        \"dtype\": \"number\",\n        \"std\": 109,\n        \"min\": 0,\n        \"max\": 603,\n        \"num_unique_values\": 210,\n        \"samples\": [\n          186,\n          165\n        ],\n        \"semantic_type\": \"\",\n        \"description\": \"\"\n      }\n    },\n    {\n      \"column\": \"FastingBS\",\n      \"properties\": {\n        \"dtype\": \"number\",\n        \"std\": 0,\n        \"min\": 0,\n        \"max\": 1,\n        \"num_unique_values\": 2,\n        \"samples\": [\n          1,\n          0\n        ],\n        \"semantic_type\": \"\",\n        \"description\": \"\"\n      }\n    },\n    {\n      \"column\": \"RestingECG\",\n      \"properties\": {\n        \"dtype\": \"number\",\n        \"std\": 0,\n        \"min\": 0,\n        \"max\": 2,\n        \"num_unique_values\": 3,\n        \"samples\": [\n          1,\n          2\n        ],\n        \"semantic_type\": \"\",\n        \"description\": \"\"\n      }\n    },\n    {\n      \"column\": \"MaxHR\",\n      \"properties\": {\n        \"dtype\": \"number\",\n        \"std\": 23.728422863344807,\n        \"min\": 60.0,\n        \"max\": 202.0,\n        \"num_unique_values\": 113,\n        \"samples\": [\n          117.0,\n          122.0\n        ],\n        \"semantic_type\": \"\",\n        \"description\": \"\"\n      }\n    },\n    {\n      \"column\": \"Angina\",\n      \"properties\": {\n        \"dtype\": \"number\",\n        \"std\": 0,\n        \"min\": 0,\n        \"max\": 1,\n        \"num_unique_values\": 2,\n        \"samples\": [\n          1,\n          0\n        ],\n        \"semantic_type\": \"\",\n        \"description\": \"\"\n      }\n    },\n    {\n      \"column\": \"HeartPeakReading\",\n      \"properties\": {\n        \"dtype\": \"number\",\n        \"std\": 1.0289941288946864,\n        \"min\": -2.0,\n        \"max\": 6.2,\n        \"num_unique_values\": 51,\n        \"samples\": [\n          4.2,\n          0.6\n        ],\n        \"semantic_type\": \"\",\n        \"description\": \"\"\n      }\n    },\n    {\n      \"column\": \"HeartDisease\",\n      \"properties\": {\n        \"dtype\": \"number\",\n        \"std\": 0,\n        \"min\": 0,\n        \"max\": 1,\n        \"num_unique_values\": 2,\n        \"samples\": [\n          1,\n          0\n        ],\n        \"semantic_type\": \"\",\n        \"description\": \"\"\n      }\n    }\n  ]\n}"
            }
          },
          "metadata": {},
          "execution_count": 77
        }
      ]
    },
    {
      "cell_type": "code",
      "source": [
        "# Remove the first column(ID column)\n",
        "data = data.drop(data.columns[0], axis=1)"
      ],
      "metadata": {
        "id": "sT5XE2An7aAK"
      },
      "execution_count": 52,
      "outputs": []
    },
    {
      "cell_type": "code",
      "source": [
        "# Remove comma and # in RestingBP column\n",
        "data['RestingBP'] = data['RestingBP'].str.replace(',', '').str.replace('#', '')"
      ],
      "metadata": {
        "id": "PmdES4bTRDi1"
      },
      "execution_count": 53,
      "outputs": []
    },
    {
      "cell_type": "code",
      "source": [
        "# Convert Farsi numbers to English\n",
        "farsi_to_english = str.maketrans('۰۱۲۳۴۵۶۷۸۹', '0123456789')\n",
        "\n",
        "# Function to convert Farsi numbers to English\n",
        "def convert_farsi_to_english(farsi_str):\n",
        "    if isinstance(farsi_str, str):  # Check if the value is a string\n",
        "        return farsi_str.translate(farsi_to_english)\n",
        "    else:\n",
        "        return farsi_str\n",
        "\n",
        "# Convert the Age column from Farsi numbers to English numbers\n",
        "data['Age'] = data['Age'].apply(convert_farsi_to_english)\n"
      ],
      "metadata": {
        "id": "B3_QmoX2UriL"
      },
      "execution_count": 54,
      "outputs": []
    },
    {
      "cell_type": "code",
      "source": [
        "# Display data information\n",
        "data.info()"
      ],
      "metadata": {
        "colab": {
          "base_uri": "https://localhost:8080/"
        },
        "id": "RBYnM4W71s-x",
        "outputId": "87f9e133-851a-4727-e777-12b7de726f61"
      },
      "execution_count": 56,
      "outputs": [
        {
          "output_type": "stream",
          "name": "stdout",
          "text": [
            "<class 'pandas.core.frame.DataFrame'>\n",
            "RangeIndex: 982 entries, 0 to 981\n",
            "Data columns (total 10 columns):\n",
            " #   Column            Non-Null Count  Dtype  \n",
            "---  ------            --------------  -----  \n",
            " 0   Age               950 non-null    object \n",
            " 1   Sex               925 non-null    object \n",
            " 2   RestingBP         982 non-null    object \n",
            " 3   Cholesterol       982 non-null    int64  \n",
            " 4   FastingBS         849 non-null    float64\n",
            " 5   RestingECG        832 non-null    object \n",
            " 6   MaxHR             833 non-null    float64\n",
            " 7   Angina            944 non-null    object \n",
            " 8   HeartPeakReading  899 non-null    float64\n",
            " 9   HeartDisease      841 non-null    float64\n",
            "dtypes: float64(4), int64(1), object(5)\n",
            "memory usage: 76.8+ KB\n"
          ]
        }
      ]
    },
    {
      "cell_type": "code",
      "source": [
        "# Display basic statistics\n",
        "data.describe()"
      ],
      "metadata": {
        "colab": {
          "base_uri": "https://localhost:8080/",
          "height": 320
        },
        "id": "AlhMxxWYbvTD",
        "outputId": "3a42a160-1ee0-400e-c454-9721fd4d25d7"
      },
      "execution_count": 82,
      "outputs": [
        {
          "output_type": "execute_result",
          "data": {
            "text/plain": [
              "              Age         Sex   RestingBP  Cholesterol   FastingBS  \\\n",
              "count  841.000000  841.000000  841.000000   841.000000  841.000000   \n",
              "mean    53.559259    0.799049  132.112102   199.189061    0.209275   \n",
              "std      9.262293    0.400950   17.705331   109.120242    0.407033   \n",
              "min     28.000000    0.000000    0.000000     0.000000    0.000000   \n",
              "25%     48.000000    1.000000  120.000000   173.000000    0.000000   \n",
              "50%     54.000000    1.000000  130.000000   223.000000    0.000000   \n",
              "75%     60.000000    1.000000  140.000000   265.000000    0.000000   \n",
              "max     77.000000    1.000000  200.000000   603.000000    1.000000   \n",
              "\n",
              "       RestingECG       MaxHR      Angina  HeartPeakReading  HeartDisease  \n",
              "count  841.000000  841.000000  841.000000        841.000000    841.000000  \n",
              "mean     0.982164  137.053597    0.382878          0.888975      0.560048  \n",
              "std      0.569808   23.728423    0.486378          1.028994      0.496677  \n",
              "min      0.000000   60.000000    0.000000         -2.000000      0.000000  \n",
              "25%      1.000000  122.000000    0.000000          0.000000      0.000000  \n",
              "50%      1.000000  137.053597    0.000000          0.888975      1.000000  \n",
              "75%      1.000000  153.000000    1.000000          1.500000      1.000000  \n",
              "max      2.000000  202.000000    1.000000          6.200000      1.000000  "
            ],
            "text/html": [
              "\n",
              "  <div id=\"df-558d68f0-16c2-4e9f-a14f-a3da554eda26\" class=\"colab-df-container\">\n",
              "    <div>\n",
              "<style scoped>\n",
              "    .dataframe tbody tr th:only-of-type {\n",
              "        vertical-align: middle;\n",
              "    }\n",
              "\n",
              "    .dataframe tbody tr th {\n",
              "        vertical-align: top;\n",
              "    }\n",
              "\n",
              "    .dataframe thead th {\n",
              "        text-align: right;\n",
              "    }\n",
              "</style>\n",
              "<table border=\"1\" class=\"dataframe\">\n",
              "  <thead>\n",
              "    <tr style=\"text-align: right;\">\n",
              "      <th></th>\n",
              "      <th>Age</th>\n",
              "      <th>Sex</th>\n",
              "      <th>RestingBP</th>\n",
              "      <th>Cholesterol</th>\n",
              "      <th>FastingBS</th>\n",
              "      <th>RestingECG</th>\n",
              "      <th>MaxHR</th>\n",
              "      <th>Angina</th>\n",
              "      <th>HeartPeakReading</th>\n",
              "      <th>HeartDisease</th>\n",
              "    </tr>\n",
              "  </thead>\n",
              "  <tbody>\n",
              "    <tr>\n",
              "      <th>count</th>\n",
              "      <td>841.000000</td>\n",
              "      <td>841.000000</td>\n",
              "      <td>841.000000</td>\n",
              "      <td>841.000000</td>\n",
              "      <td>841.000000</td>\n",
              "      <td>841.000000</td>\n",
              "      <td>841.000000</td>\n",
              "      <td>841.000000</td>\n",
              "      <td>841.000000</td>\n",
              "      <td>841.000000</td>\n",
              "    </tr>\n",
              "    <tr>\n",
              "      <th>mean</th>\n",
              "      <td>53.559259</td>\n",
              "      <td>0.799049</td>\n",
              "      <td>132.112102</td>\n",
              "      <td>199.189061</td>\n",
              "      <td>0.209275</td>\n",
              "      <td>0.982164</td>\n",
              "      <td>137.053597</td>\n",
              "      <td>0.382878</td>\n",
              "      <td>0.888975</td>\n",
              "      <td>0.560048</td>\n",
              "    </tr>\n",
              "    <tr>\n",
              "      <th>std</th>\n",
              "      <td>9.262293</td>\n",
              "      <td>0.400950</td>\n",
              "      <td>17.705331</td>\n",
              "      <td>109.120242</td>\n",
              "      <td>0.407033</td>\n",
              "      <td>0.569808</td>\n",
              "      <td>23.728423</td>\n",
              "      <td>0.486378</td>\n",
              "      <td>1.028994</td>\n",
              "      <td>0.496677</td>\n",
              "    </tr>\n",
              "    <tr>\n",
              "      <th>min</th>\n",
              "      <td>28.000000</td>\n",
              "      <td>0.000000</td>\n",
              "      <td>0.000000</td>\n",
              "      <td>0.000000</td>\n",
              "      <td>0.000000</td>\n",
              "      <td>0.000000</td>\n",
              "      <td>60.000000</td>\n",
              "      <td>0.000000</td>\n",
              "      <td>-2.000000</td>\n",
              "      <td>0.000000</td>\n",
              "    </tr>\n",
              "    <tr>\n",
              "      <th>25%</th>\n",
              "      <td>48.000000</td>\n",
              "      <td>1.000000</td>\n",
              "      <td>120.000000</td>\n",
              "      <td>173.000000</td>\n",
              "      <td>0.000000</td>\n",
              "      <td>1.000000</td>\n",
              "      <td>122.000000</td>\n",
              "      <td>0.000000</td>\n",
              "      <td>0.000000</td>\n",
              "      <td>0.000000</td>\n",
              "    </tr>\n",
              "    <tr>\n",
              "      <th>50%</th>\n",
              "      <td>54.000000</td>\n",
              "      <td>1.000000</td>\n",
              "      <td>130.000000</td>\n",
              "      <td>223.000000</td>\n",
              "      <td>0.000000</td>\n",
              "      <td>1.000000</td>\n",
              "      <td>137.053597</td>\n",
              "      <td>0.000000</td>\n",
              "      <td>0.888975</td>\n",
              "      <td>1.000000</td>\n",
              "    </tr>\n",
              "    <tr>\n",
              "      <th>75%</th>\n",
              "      <td>60.000000</td>\n",
              "      <td>1.000000</td>\n",
              "      <td>140.000000</td>\n",
              "      <td>265.000000</td>\n",
              "      <td>0.000000</td>\n",
              "      <td>1.000000</td>\n",
              "      <td>153.000000</td>\n",
              "      <td>1.000000</td>\n",
              "      <td>1.500000</td>\n",
              "      <td>1.000000</td>\n",
              "    </tr>\n",
              "    <tr>\n",
              "      <th>max</th>\n",
              "      <td>77.000000</td>\n",
              "      <td>1.000000</td>\n",
              "      <td>200.000000</td>\n",
              "      <td>603.000000</td>\n",
              "      <td>1.000000</td>\n",
              "      <td>2.000000</td>\n",
              "      <td>202.000000</td>\n",
              "      <td>1.000000</td>\n",
              "      <td>6.200000</td>\n",
              "      <td>1.000000</td>\n",
              "    </tr>\n",
              "  </tbody>\n",
              "</table>\n",
              "</div>\n",
              "    <div class=\"colab-df-buttons\">\n",
              "\n",
              "  <div class=\"colab-df-container\">\n",
              "    <button class=\"colab-df-convert\" onclick=\"convertToInteractive('df-558d68f0-16c2-4e9f-a14f-a3da554eda26')\"\n",
              "            title=\"Convert this dataframe to an interactive table.\"\n",
              "            style=\"display:none;\">\n",
              "\n",
              "  <svg xmlns=\"http://www.w3.org/2000/svg\" height=\"24px\" viewBox=\"0 -960 960 960\">\n",
              "    <path d=\"M120-120v-720h720v720H120Zm60-500h600v-160H180v160Zm220 220h160v-160H400v160Zm0 220h160v-160H400v160ZM180-400h160v-160H180v160Zm440 0h160v-160H620v160ZM180-180h160v-160H180v160Zm440 0h160v-160H620v160Z\"/>\n",
              "  </svg>\n",
              "    </button>\n",
              "\n",
              "  <style>\n",
              "    .colab-df-container {\n",
              "      display:flex;\n",
              "      gap: 12px;\n",
              "    }\n",
              "\n",
              "    .colab-df-convert {\n",
              "      background-color: #E8F0FE;\n",
              "      border: none;\n",
              "      border-radius: 50%;\n",
              "      cursor: pointer;\n",
              "      display: none;\n",
              "      fill: #1967D2;\n",
              "      height: 32px;\n",
              "      padding: 0 0 0 0;\n",
              "      width: 32px;\n",
              "    }\n",
              "\n",
              "    .colab-df-convert:hover {\n",
              "      background-color: #E2EBFA;\n",
              "      box-shadow: 0px 1px 2px rgba(60, 64, 67, 0.3), 0px 1px 3px 1px rgba(60, 64, 67, 0.15);\n",
              "      fill: #174EA6;\n",
              "    }\n",
              "\n",
              "    .colab-df-buttons div {\n",
              "      margin-bottom: 4px;\n",
              "    }\n",
              "\n",
              "    [theme=dark] .colab-df-convert {\n",
              "      background-color: #3B4455;\n",
              "      fill: #D2E3FC;\n",
              "    }\n",
              "\n",
              "    [theme=dark] .colab-df-convert:hover {\n",
              "      background-color: #434B5C;\n",
              "      box-shadow: 0px 1px 3px 1px rgba(0, 0, 0, 0.15);\n",
              "      filter: drop-shadow(0px 1px 2px rgba(0, 0, 0, 0.3));\n",
              "      fill: #FFFFFF;\n",
              "    }\n",
              "  </style>\n",
              "\n",
              "    <script>\n",
              "      const buttonEl =\n",
              "        document.querySelector('#df-558d68f0-16c2-4e9f-a14f-a3da554eda26 button.colab-df-convert');\n",
              "      buttonEl.style.display =\n",
              "        google.colab.kernel.accessAllowed ? 'block' : 'none';\n",
              "\n",
              "      async function convertToInteractive(key) {\n",
              "        const element = document.querySelector('#df-558d68f0-16c2-4e9f-a14f-a3da554eda26');\n",
              "        const dataTable =\n",
              "          await google.colab.kernel.invokeFunction('convertToInteractive',\n",
              "                                                    [key], {});\n",
              "        if (!dataTable) return;\n",
              "\n",
              "        const docLinkHtml = 'Like what you see? Visit the ' +\n",
              "          '<a target=\"_blank\" href=https://colab.research.google.com/notebooks/data_table.ipynb>data table notebook</a>'\n",
              "          + ' to learn more about interactive tables.';\n",
              "        element.innerHTML = '';\n",
              "        dataTable['output_type'] = 'display_data';\n",
              "        await google.colab.output.renderOutput(dataTable, element);\n",
              "        const docLink = document.createElement('div');\n",
              "        docLink.innerHTML = docLinkHtml;\n",
              "        element.appendChild(docLink);\n",
              "      }\n",
              "    </script>\n",
              "  </div>\n",
              "\n",
              "\n",
              "<div id=\"df-327c0f8a-babc-49b7-8e21-5b8a21186786\">\n",
              "  <button class=\"colab-df-quickchart\" onclick=\"quickchart('df-327c0f8a-babc-49b7-8e21-5b8a21186786')\"\n",
              "            title=\"Suggest charts\"\n",
              "            style=\"display:none;\">\n",
              "\n",
              "<svg xmlns=\"http://www.w3.org/2000/svg\" height=\"24px\"viewBox=\"0 0 24 24\"\n",
              "     width=\"24px\">\n",
              "    <g>\n",
              "        <path d=\"M19 3H5c-1.1 0-2 .9-2 2v14c0 1.1.9 2 2 2h14c1.1 0 2-.9 2-2V5c0-1.1-.9-2-2-2zM9 17H7v-7h2v7zm4 0h-2V7h2v10zm4 0h-2v-4h2v4z\"/>\n",
              "    </g>\n",
              "</svg>\n",
              "  </button>\n",
              "\n",
              "<style>\n",
              "  .colab-df-quickchart {\n",
              "      --bg-color: #E8F0FE;\n",
              "      --fill-color: #1967D2;\n",
              "      --hover-bg-color: #E2EBFA;\n",
              "      --hover-fill-color: #174EA6;\n",
              "      --disabled-fill-color: #AAA;\n",
              "      --disabled-bg-color: #DDD;\n",
              "  }\n",
              "\n",
              "  [theme=dark] .colab-df-quickchart {\n",
              "      --bg-color: #3B4455;\n",
              "      --fill-color: #D2E3FC;\n",
              "      --hover-bg-color: #434B5C;\n",
              "      --hover-fill-color: #FFFFFF;\n",
              "      --disabled-bg-color: #3B4455;\n",
              "      --disabled-fill-color: #666;\n",
              "  }\n",
              "\n",
              "  .colab-df-quickchart {\n",
              "    background-color: var(--bg-color);\n",
              "    border: none;\n",
              "    border-radius: 50%;\n",
              "    cursor: pointer;\n",
              "    display: none;\n",
              "    fill: var(--fill-color);\n",
              "    height: 32px;\n",
              "    padding: 0;\n",
              "    width: 32px;\n",
              "  }\n",
              "\n",
              "  .colab-df-quickchart:hover {\n",
              "    background-color: var(--hover-bg-color);\n",
              "    box-shadow: 0 1px 2px rgba(60, 64, 67, 0.3), 0 1px 3px 1px rgba(60, 64, 67, 0.15);\n",
              "    fill: var(--button-hover-fill-color);\n",
              "  }\n",
              "\n",
              "  .colab-df-quickchart-complete:disabled,\n",
              "  .colab-df-quickchart-complete:disabled:hover {\n",
              "    background-color: var(--disabled-bg-color);\n",
              "    fill: var(--disabled-fill-color);\n",
              "    box-shadow: none;\n",
              "  }\n",
              "\n",
              "  .colab-df-spinner {\n",
              "    border: 2px solid var(--fill-color);\n",
              "    border-color: transparent;\n",
              "    border-bottom-color: var(--fill-color);\n",
              "    animation:\n",
              "      spin 1s steps(1) infinite;\n",
              "  }\n",
              "\n",
              "  @keyframes spin {\n",
              "    0% {\n",
              "      border-color: transparent;\n",
              "      border-bottom-color: var(--fill-color);\n",
              "      border-left-color: var(--fill-color);\n",
              "    }\n",
              "    20% {\n",
              "      border-color: transparent;\n",
              "      border-left-color: var(--fill-color);\n",
              "      border-top-color: var(--fill-color);\n",
              "    }\n",
              "    30% {\n",
              "      border-color: transparent;\n",
              "      border-left-color: var(--fill-color);\n",
              "      border-top-color: var(--fill-color);\n",
              "      border-right-color: var(--fill-color);\n",
              "    }\n",
              "    40% {\n",
              "      border-color: transparent;\n",
              "      border-right-color: var(--fill-color);\n",
              "      border-top-color: var(--fill-color);\n",
              "    }\n",
              "    60% {\n",
              "      border-color: transparent;\n",
              "      border-right-color: var(--fill-color);\n",
              "    }\n",
              "    80% {\n",
              "      border-color: transparent;\n",
              "      border-right-color: var(--fill-color);\n",
              "      border-bottom-color: var(--fill-color);\n",
              "    }\n",
              "    90% {\n",
              "      border-color: transparent;\n",
              "      border-bottom-color: var(--fill-color);\n",
              "    }\n",
              "  }\n",
              "</style>\n",
              "\n",
              "  <script>\n",
              "    async function quickchart(key) {\n",
              "      const quickchartButtonEl =\n",
              "        document.querySelector('#' + key + ' button');\n",
              "      quickchartButtonEl.disabled = true;  // To prevent multiple clicks.\n",
              "      quickchartButtonEl.classList.add('colab-df-spinner');\n",
              "      try {\n",
              "        const charts = await google.colab.kernel.invokeFunction(\n",
              "            'suggestCharts', [key], {});\n",
              "      } catch (error) {\n",
              "        console.error('Error during call to suggestCharts:', error);\n",
              "      }\n",
              "      quickchartButtonEl.classList.remove('colab-df-spinner');\n",
              "      quickchartButtonEl.classList.add('colab-df-quickchart-complete');\n",
              "    }\n",
              "    (() => {\n",
              "      let quickchartButtonEl =\n",
              "        document.querySelector('#df-327c0f8a-babc-49b7-8e21-5b8a21186786 button');\n",
              "      quickchartButtonEl.style.display =\n",
              "        google.colab.kernel.accessAllowed ? 'block' : 'none';\n",
              "    })();\n",
              "  </script>\n",
              "</div>\n",
              "    </div>\n",
              "  </div>\n"
            ],
            "application/vnd.google.colaboratory.intrinsic+json": {
              "type": "dataframe",
              "summary": "{\n  \"name\": \"data\",\n  \"rows\": 8,\n  \"fields\": [\n    {\n      \"column\": \"Age\",\n      \"properties\": {\n        \"dtype\": \"number\",\n        \"std\": 281.42887860771805,\n        \"min\": 9.26229270416165,\n        \"max\": 841.0,\n        \"num_unique_values\": 8,\n        \"samples\": [\n          53.559259259259264,\n          54.0,\n          841.0\n        ],\n        \"semantic_type\": \"\",\n        \"description\": \"\"\n      }\n    },\n    {\n      \"column\": \"Sex\",\n      \"properties\": {\n        \"dtype\": \"number\",\n        \"std\": 297.0759870275187,\n        \"min\": 0.0,\n        \"max\": 841.0,\n        \"num_unique_values\": 5,\n        \"samples\": [\n          0.7990487514863258,\n          1.0,\n          0.4009501201034105\n        ],\n        \"semantic_type\": \"\",\n        \"description\": \"\"\n      }\n    },\n    {\n      \"column\": \"RestingBP\",\n      \"properties\": {\n        \"dtype\": \"number\",\n        \"std\": 268.2150301613953,\n        \"min\": 0.0,\n        \"max\": 841.0,\n        \"num_unique_values\": 8,\n        \"samples\": [\n          132.11210191082804,\n          130.0,\n          841.0\n        ],\n        \"semantic_type\": \"\",\n        \"description\": \"\"\n      }\n    },\n    {\n      \"column\": \"Cholesterol\",\n      \"properties\": {\n        \"dtype\": \"number\",\n        \"std\": 278.86217413658994,\n        \"min\": 0.0,\n        \"max\": 841.0,\n        \"num_unique_values\": 8,\n        \"samples\": [\n          199.18906064209276,\n          223.0,\n          841.0\n        ],\n        \"semantic_type\": \"\",\n        \"description\": \"\"\n      }\n    },\n    {\n      \"column\": \"FastingBS\",\n      \"properties\": {\n        \"dtype\": \"number\",\n        \"std\": 297.2569665765119,\n        \"min\": 0.0,\n        \"max\": 841.0,\n        \"num_unique_values\": 5,\n        \"samples\": [\n          0.20927467300832342,\n          1.0,\n          0.4070329013707074\n        ],\n        \"semantic_type\": \"\",\n        \"description\": \"\"\n      }\n    },\n    {\n      \"column\": \"RestingECG\",\n      \"properties\": {\n        \"dtype\": \"number\",\n        \"std\": 297.0079955848757,\n        \"min\": 0.0,\n        \"max\": 841.0,\n        \"num_unique_values\": 6,\n        \"samples\": [\n          841.0,\n          0.9821640903686087,\n          2.0\n        ],\n        \"semantic_type\": \"\",\n        \"description\": \"\"\n      }\n    },\n    {\n      \"column\": \"MaxHR\",\n      \"properties\": {\n        \"dtype\": \"number\",\n        \"std\": 261.0569965738025,\n        \"min\": 23.728422863344807,\n        \"max\": 841.0,\n        \"num_unique_values\": 7,\n        \"samples\": [\n          841.0,\n          137.05359661495064,\n          153.0\n        ],\n        \"semantic_type\": \"\",\n        \"description\": \"\"\n      }\n    },\n    {\n      \"column\": \"Angina\",\n      \"properties\": {\n        \"dtype\": \"number\",\n        \"std\": 297.19377230876313,\n        \"min\": 0.0,\n        \"max\": 841.0,\n        \"num_unique_values\": 5,\n        \"samples\": [\n          0.38287752675386444,\n          1.0,\n          0.4863780574248308\n        ],\n        \"semantic_type\": \"\",\n        \"description\": \"\"\n      }\n    },\n    {\n      \"column\": \"HeartPeakReading\",\n      \"properties\": {\n        \"dtype\": \"number\",\n        \"std\": 296.9176348552826,\n        \"min\": -2.0,\n        \"max\": 841.0,\n        \"num_unique_values\": 8,\n        \"samples\": [\n          0.8889753566796369,\n          0.8889753566796368,\n          841.0\n        ],\n        \"semantic_type\": \"\",\n        \"description\": \"\"\n      }\n    },\n    {\n      \"column\": \"HeartDisease\",\n      \"properties\": {\n        \"dtype\": \"number\",\n        \"std\": 297.1337966942,\n        \"min\": 0.0,\n        \"max\": 841.0,\n        \"num_unique_values\": 5,\n        \"samples\": [\n          0.5600475624256838,\n          1.0,\n          0.4966765716064546\n        ],\n        \"semantic_type\": \"\",\n        \"description\": \"\"\n      }\n    }\n  ]\n}"
            }
          },
          "metadata": {},
          "execution_count": 82
        }
      ]
    },
    {
      "cell_type": "code",
      "source": [
        "# Changing data type\n",
        "data['Age'] = pd.to_numeric(data['Age'], errors='coerce')\n",
        "data['Sex'] = data['Sex'].astype('category')\n",
        "data['RestingBP'] = pd.to_numeric(data['RestingBP'], errors='coerce')\n",
        "data['FastingBS'] = data['FastingBS'].astype('category')\n",
        "data['RestingECG'] = data['RestingECG'].astype('category')\n",
        "data['Angina'] = data['Angina'].astype('category')\n",
        "data['HeartDisease'] = data['HeartDisease'].astype('category')\n"
      ],
      "metadata": {
        "id": "O97Z883GSeoK"
      },
      "execution_count": 57,
      "outputs": []
    },
    {
      "cell_type": "code",
      "source": [
        "# Unique values of each column\n",
        "for column in data.columns:\n",
        "    unique_values = data[column].unique()\n",
        "    print(f'Column: {column}')\n",
        "    print(f'Unique values: {unique_values}')\n",
        "    print('-' * 50)"
      ],
      "metadata": {
        "colab": {
          "base_uri": "https://localhost:8080/"
        },
        "id": "lXg5TpohWrNQ",
        "outputId": "b25b8695-1ea9-4b61-8e09-c56da2e8306f"
      },
      "execution_count": 58,
      "outputs": [
        {
          "output_type": "stream",
          "name": "stdout",
          "text": [
            "Column: Age\n",
            "Unique values: [40. 49. 37. nan 54. 39. 45. 48. 58. 42. 38. 43. 60. 36. 44. 53. 52. 51.\n",
            " 56. 41. 32. 65. 35. 59. 50. 47. 31. 46. 57. 55. 63. 66. 34. 33. 61. 29.\n",
            " 62. 28. 30. 74. 68. 72. 64. 69. 67. 73. 70. 77. 75. 76. 71.]\n",
            "--------------------------------------------------\n",
            "Column: Sex\n",
            "Unique values: [NaN, 'F', 'M']\n",
            "Categories (2, object): ['F', 'M']\n",
            "--------------------------------------------------\n",
            "Column: RestingBP\n",
            "Unique values: [140.  nan 130. 138. 120. 110. 136. 115. 100. 124. 113. 125. 145. 150.\n",
            " 112. 160. 132. 170. 142. 118. 190. 135. 108. 155. 128. 180. 106.  92.\n",
            " 200. 122.  98. 105. 133.  95.  80. 137. 185. 126. 152. 116.   0. 144.\n",
            " 154. 134. 104. 139. 131. 146. 158. 123. 102.  96. 143. 172. 141. 156.\n",
            " 114. 127. 101. 174.  94. 148. 178. 165. 117. 192. 129. 164.]\n",
            "--------------------------------------------------\n",
            "Column: Cholesterol\n",
            "Unique values: [289 180 283 214 195 339 237 208 207 284 211 164 204 234 273 196 201 248\n",
            " 267 223 184 288 215 209 260 468 188 518 167 224 172 186 254 306 250 177\n",
            " 227 230 294 264 259 175 318 216 340 233 205 245 194 270 213 365 342 253\n",
            " 277 202 297 225 246 412 265 182 218 268 163 529 100 206 238 139 263 291\n",
            " 229 307 210 329 147  85 269 275 179 392 466 129 241 255 276 282 338 160\n",
            " 156 272 240 393 161 228 292 388 166 247 331 341 243 279 198 249 168 603\n",
            " 159 190 185 290 212 231 222 235 320 187 266 287 404 312 251 328 285 280\n",
            " 192 193 308 219 257 132 226 217 303 298 256 117 295 173 315 281 309 200\n",
            " 336 355 326 171 491 271 274 394 221 126 305 220 242 347 344 358 169 181\n",
            "   0 236 203 153 316 311 252 458 384 258 349 142 197 113 261 310 232 110\n",
            " 123 170 369 152 244 165 337 300 333 385 322 564 239 293 407 149 199 417\n",
            " 178 319 354 330 302 313 141 327 304 286 360 262 325 299 409 174 183 321\n",
            " 353 335 278 157 176 131]\n",
            "--------------------------------------------------\n",
            "Column: FastingBS\n",
            "Unique values: [0.0, NaN, 1.0]\n",
            "Categories (2, float64): [0.0, 1.0]\n",
            "--------------------------------------------------\n",
            "Column: RestingECG\n",
            "Unique values: [NaN, 'Normal', 'ST', 'LVH']\n",
            "Categories (3, object): ['LVH', 'Normal', 'ST']\n",
            "--------------------------------------------------\n",
            "Column: MaxHR\n",
            "Unique values: [172. 156.  98. 108. 122. 170.  nan 130. 120. 142.  99. 145. 137. 150.\n",
            " 166. 165. 125. 160. 164. 178. 112. 118. 127. 154. 155.  87. 148. 100.\n",
            " 168. 184. 121. 140. 153. 134.  96. 174. 175. 144.  82. 115. 128. 116.\n",
            "  94. 110.  92. 180. 138. 152. 124. 135. 106. 185. 139. 190. 146. 158.\n",
            " 132. 176. 119. 188. 162.  90. 136. 167. 129. 102. 143. 103.  91. 126.\n",
            "  93. 131. 149. 123. 182. 141.  77. 109. 133. 179. 114. 113. 104.  72.\n",
            "  97. 117.  86.  63. 105.  60.  67.  78. 157.  84. 111.  80. 107. 161.\n",
            "  69.  88.  73. 159. 151. 181. 186. 163. 177. 173. 169. 171.  71. 147.\n",
            " 192. 195.  95. 194. 187. 202.]\n",
            "--------------------------------------------------\n",
            "Column: Angina\n",
            "Unique values: ['N', 'Y', NaN]\n",
            "Categories (2, object): ['N', 'Y']\n",
            "--------------------------------------------------\n",
            "Column: HeartPeakReading\n",
            "Unique values: [ 0.   1.   1.5  2.   3.   nan  4.   0.5  2.5  5.   0.8  0.7  1.4  2.1\n",
            "  0.2  1.7  2.2  0.1  1.6  1.3  0.3  1.8  2.6 -0.9  2.8 -2.6 -1.5 -0.1\n",
            "  0.9  1.1 -1.  -1.1 -0.7 -0.8  3.7  1.2 -0.5 -2.   1.9  0.4  3.5  2.4\n",
            "  0.6  2.3  3.6  4.2  3.4  3.2  5.6  3.8  2.9  6.2  4.4]\n",
            "--------------------------------------------------\n",
            "Column: HeartDisease\n",
            "Unique values: [0.0, 1.0, NaN]\n",
            "Categories (2, float64): [0.0, 1.0]\n",
            "--------------------------------------------------\n"
          ]
        }
      ]
    },
    {
      "cell_type": "markdown",
      "source": [
        "5. نرخ داده‌های گمشده"
      ],
      "metadata": {
        "id": "jjp6mev7YTja"
      }
    },
    {
      "cell_type": "code",
      "source": [
        "# Missing values rate\n",
        "print(data.isnull().mean() * 100)"
      ],
      "metadata": {
        "colab": {
          "base_uri": "https://localhost:8080/"
        },
        "id": "WjpSWyNx1ojy",
        "outputId": "7612aa7b-8303-4faa-ff23-e462936db9bb"
      },
      "execution_count": 59,
      "outputs": [
        {
          "output_type": "stream",
          "name": "stdout",
          "text": [
            "Age                  3.258656\n",
            "Sex                  5.804481\n",
            "RestingBP            6.415479\n",
            "Cholesterol          0.000000\n",
            "FastingBS           13.543788\n",
            "RestingECG          15.274949\n",
            "MaxHR               15.173116\n",
            "Angina               3.869654\n",
            "HeartPeakReading     8.452138\n",
            "HeartDisease        14.358452\n",
            "dtype: float64\n"
          ]
        }
      ]
    },
    {
      "cell_type": "code",
      "source": [
        "# The number of missing\n",
        "print(data.isnull().sum())"
      ],
      "metadata": {
        "colab": {
          "base_uri": "https://localhost:8080/"
        },
        "id": "YchaAEERY4eV",
        "outputId": "f355f964-1de3-4961-af6d-fff3f8f86da9"
      },
      "execution_count": 71,
      "outputs": [
        {
          "output_type": "stream",
          "name": "stdout",
          "text": [
            "Age                 0\n",
            "Sex                 0\n",
            "RestingBP           0\n",
            "Cholesterol         0\n",
            "FastingBS           0\n",
            "RestingECG          0\n",
            "MaxHR               0\n",
            "Angina              0\n",
            "HeartPeakReading    0\n",
            "HeartDisease        0\n",
            "dtype: int64\n"
          ]
        }
      ]
    },
    {
      "cell_type": "markdown",
      "source": [
        "6. بررسی داده‌های گمشده"
      ],
      "metadata": {
        "id": "GCqxJB1SZc6w"
      }
    },
    {
      "cell_type": "code",
      "source": [
        "# Drop missing values in target column\n",
        "data = data.dropna(subset=['HeartDisease'])"
      ],
      "metadata": {
        "id": "Kh6ZaOFfarjx"
      },
      "execution_count": 62,
      "outputs": []
    },
    {
      "cell_type": "code",
      "source": [
        "# Replace missing values ​​with averages in numeric columns\n",
        "\n",
        "# Identify numeric columns (excluding categorical columns)\n",
        "numeric_columns = data.select_dtypes(include=['number']).columns\n",
        "\n",
        "# Calculate means for numeric columns excluding NaNs\n",
        "column_means = data[numeric_columns].mean(skipna=True)\n",
        "\n",
        "# Replace NaN values with mean for each numeric column\n",
        "data[numeric_columns] = data[numeric_columns].fillna(column_means)"
      ],
      "metadata": {
        "id": "K2PFLU76dDzq"
      },
      "execution_count": 67,
      "outputs": []
    },
    {
      "cell_type": "code",
      "source": [
        "# Identify categorical columns (excluding numeric columns)\n",
        "categorical_columns = data.select_dtypes(include=['object', 'category']).columns\n",
        "\n",
        "# Calculate mode for each categorical column\n",
        "column_modes = data[categorical_columns].mode().iloc[0]  # Take the first mode (in case of multiple)\n",
        "\n",
        "# Replace NaN values with mode for each categorical column\n",
        "data[categorical_columns] = data[categorical_columns].fillna(column_modes)"
      ],
      "metadata": {
        "id": "G-cPcD4ff1Xb"
      },
      "execution_count": 70,
      "outputs": []
    },
    {
      "cell_type": "markdown",
      "source": [
        "مقادیر گمشده در ستون هدف حذف گردید. به جهت زیاد بودن تعداد مقادیر گمشده (حدود 60 درصد داده‌ها) مقادیر گمشده در ستون‌های عددی با میانگین ستون جایگزین شد. مقادیر گمشده در ستون‌های طبقه‌بندی شده با مد آن ستون جایگزین شد."
      ],
      "metadata": {
        "id": "6PK3AeX9gDQ7"
      }
    },
    {
      "cell_type": "markdown",
      "source": [
        "7. نسبت متغیر پاسخ"
      ],
      "metadata": {
        "id": "waxnEJvWgfOV"
      }
    },
    {
      "cell_type": "code",
      "source": [
        "response_distribution = data['HeartDisease'].value_counts(normalize=True)\n",
        "print(\"Response variable distribution:\")\n",
        "print(response_distribution)"
      ],
      "metadata": {
        "colab": {
          "base_uri": "https://localhost:8080/"
        },
        "id": "tVum0CADhQg6",
        "outputId": "3e1f5d12-367d-4789-d7cc-3a34e623613c"
      },
      "execution_count": 72,
      "outputs": [
        {
          "output_type": "stream",
          "name": "stdout",
          "text": [
            "Response variable distribution:\n",
            "HeartDisease\n",
            "1.0    0.560048\n",
            "0.0    0.439952\n",
            "Name: proportion, dtype: float64\n"
          ]
        }
      ]
    },
    {
      "cell_type": "markdown",
      "source": [
        "نسبت متغیر پاسخ در توازن قرار دارد."
      ],
      "metadata": {
        "id": "_2xVINf0iGFT"
      }
    },
    {
      "cell_type": "markdown",
      "source": [
        "8. تقسیم داده‌ها به دسته آموزشی و آزمایشی"
      ],
      "metadata": {
        "id": "aaT8wXPziJjs"
      }
    },
    {
      "cell_type": "code",
      "source": [
        "# Initialize LabelEncoder\n",
        "label_encoder = LabelEncoder()\n",
        "\n",
        "# Encode categorical columns\n",
        "for col in categorical_columns:\n",
        "    data[col] = label_encoder.fit_transform(data[col])\n"
      ],
      "metadata": {
        "id": "v2NTZxBCkcBF"
      },
      "execution_count": 76,
      "outputs": []
    },
    {
      "cell_type": "code",
      "source": [
        "X = data.drop(columns=['HeartDisease'])\n",
        "y = data['HeartDisease']\n",
        "\n",
        "# Standardize the features\n",
        "scaler = StandardScaler()\n",
        "X_scaled = scaler.fit_transform(X)\n",
        "\n",
        "# Split data into training and testing sets\n",
        "X_train, X_test, y_train, y_test = train_test_split(X_scaled, y, test_size=0.25, random_state=42)"
      ],
      "metadata": {
        "id": "ABvmpMvNiSF-"
      },
      "execution_count": 78,
      "outputs": []
    },
    {
      "cell_type": "markdown",
      "source": [
        "9. برازش مدل‌ها"
      ],
      "metadata": {
        "id": "L1V9Ltgmk_Lk"
      }
    },
    {
      "cell_type": "markdown",
      "source": [
        "9.1 درخت تصمیم"
      ],
      "metadata": {
        "id": "0X_Kfv30lHRZ"
      }
    },
    {
      "cell_type": "code",
      "source": [
        "dt = DecisionTreeClassifier(random_state=42)\n",
        "dt.fit(X_train, y_train)\n",
        "y_pred_dt = dt.predict(X_test)\n",
        "print(\"Decision Tree\")\n",
        "print(\"Accuracy:\", accuracy_score(y_test, y_pred_dt))\n",
        "print(\"Confusion Matrix:\\n\", confusion_matrix(y_test, y_pred_dt))\n",
        "print(\"Classification Report:\\n\", classification_report(y_test, y_pred_dt))"
      ],
      "metadata": {
        "colab": {
          "base_uri": "https://localhost:8080/"
        },
        "id": "nz_ECwtplGQM",
        "outputId": "909ce0d2-0763-4cfd-a50c-fd5fd8b0b65f"
      },
      "execution_count": 79,
      "outputs": [
        {
          "output_type": "stream",
          "name": "stdout",
          "text": [
            "Decision Tree\n",
            "Accuracy: 0.7393364928909952\n",
            "Confusion Matrix:\n",
            " [[64 29]\n",
            " [26 92]]\n",
            "Classification Report:\n",
            "               precision    recall  f1-score   support\n",
            "\n",
            "           0       0.71      0.69      0.70        93\n",
            "           1       0.76      0.78      0.77       118\n",
            "\n",
            "    accuracy                           0.74       211\n",
            "   macro avg       0.74      0.73      0.73       211\n",
            "weighted avg       0.74      0.74      0.74       211\n",
            "\n"
          ]
        }
      ]
    },
    {
      "cell_type": "markdown",
      "source": [
        "9.2 جنگل تصادفی"
      ],
      "metadata": {
        "id": "Fbp6bn9fmR9b"
      }
    },
    {
      "cell_type": "code",
      "source": [
        "rf = RandomForestClassifier(random_state=42)\n",
        "rf.fit(X_train, y_train)\n",
        "y_pred_rf = rf.predict(X_test)\n",
        "print(\"Random Forest\")\n",
        "print(\"Accuracy:\", accuracy_score(y_test, y_pred_rf))\n",
        "print(\"Confusion Matrix:\\n\", confusion_matrix(y_test, y_pred_rf))\n",
        "print(\"Classification Report:\\n\", classification_report(y_test, y_pred_rf))"
      ],
      "metadata": {
        "colab": {
          "base_uri": "https://localhost:8080/"
        },
        "id": "UkAJdpaAmUI4",
        "outputId": "c6365431-4afd-4f4a-dc1b-c3168be1c07e"
      },
      "execution_count": 86,
      "outputs": [
        {
          "output_type": "stream",
          "name": "stdout",
          "text": [
            "Random Forest\n",
            "Accuracy: 0.8246445497630331\n",
            "Confusion Matrix:\n",
            " [[ 69  24]\n",
            " [ 13 105]]\n",
            "Classification Report:\n",
            "               precision    recall  f1-score   support\n",
            "\n",
            "           0       0.84      0.74      0.79        93\n",
            "           1       0.81      0.89      0.85       118\n",
            "\n",
            "    accuracy                           0.82       211\n",
            "   macro avg       0.83      0.82      0.82       211\n",
            "weighted avg       0.83      0.82      0.82       211\n",
            "\n"
          ]
        }
      ]
    },
    {
      "cell_type": "markdown",
      "source": [
        "9.3 بردار ماشین پشتیبان"
      ],
      "metadata": {
        "id": "h9iTs2FHmdzL"
      }
    },
    {
      "cell_type": "code",
      "source": [
        "svm = SVC(probability=True,random_state=42)\n",
        "svm.fit(X_train, y_train)\n",
        "y_pred_svm = svm.predict(X_test)\n",
        "print(\"Support Vector Machine\")\n",
        "print(\"Accuracy:\", accuracy_score(y_test, y_pred_svm))\n",
        "print(\"Confusion Matrix:\\n\", confusion_matrix(y_test, y_pred_svm))\n",
        "print(\"Classification Report:\\n\", classification_report(y_test, y_pred_svm))"
      ],
      "metadata": {
        "colab": {
          "base_uri": "https://localhost:8080/"
        },
        "id": "-3BWrgh4mh7k",
        "outputId": "037f9b44-f978-45c4-f0c4-944f2220bdfe"
      },
      "execution_count": 95,
      "outputs": [
        {
          "output_type": "stream",
          "name": "stdout",
          "text": [
            "Support Vector Machine\n",
            "Accuracy: 0.8104265402843602\n",
            "Confusion Matrix:\n",
            " [[72 21]\n",
            " [19 99]]\n",
            "Classification Report:\n",
            "               precision    recall  f1-score   support\n",
            "\n",
            "           0       0.79      0.77      0.78        93\n",
            "           1       0.82      0.84      0.83       118\n",
            "\n",
            "    accuracy                           0.81       211\n",
            "   macro avg       0.81      0.81      0.81       211\n",
            "weighted avg       0.81      0.81      0.81       211\n",
            "\n"
          ]
        }
      ]
    },
    {
      "cell_type": "markdown",
      "source": [
        "9.4 رگرسیون لوژستیک"
      ],
      "metadata": {
        "id": "JE5nZnYtm1z4"
      }
    },
    {
      "cell_type": "code",
      "source": [
        "lr = LogisticRegression(random_state=42)\n",
        "lr.fit(X_train, y_train)\n",
        "y_pred_lr = lr.predict(X_test)\n",
        "print(\"Logistic Regression\")\n",
        "print(\"Accuracy:\", accuracy_score(y_test, y_pred_lr))\n",
        "print(\"Confusion Matrix:\\n\", confusion_matrix(y_test, y_pred_lr))\n",
        "print(\"Classification Report:\\n\", classification_report(y_test, y_pred_lr))"
      ],
      "metadata": {
        "colab": {
          "base_uri": "https://localhost:8080/"
        },
        "id": "6RdRouc3m5UN",
        "outputId": "95543af6-17bf-48bb-abeb-d000f75dc82a"
      },
      "execution_count": 89,
      "outputs": [
        {
          "output_type": "stream",
          "name": "stdout",
          "text": [
            "Logistic Regression\n",
            "Accuracy: 0.8009478672985783\n",
            "Confusion Matrix:\n",
            " [[72 21]\n",
            " [21 97]]\n",
            "Classification Report:\n",
            "               precision    recall  f1-score   support\n",
            "\n",
            "           0       0.77      0.77      0.77        93\n",
            "           1       0.82      0.82      0.82       118\n",
            "\n",
            "    accuracy                           0.80       211\n",
            "   macro avg       0.80      0.80      0.80       211\n",
            "weighted avg       0.80      0.80      0.80       211\n",
            "\n"
          ]
        }
      ]
    },
    {
      "cell_type": "markdown",
      "source": [
        "9.5 کا-نزدیکترین همسایگی"
      ],
      "metadata": {
        "id": "AfbbgrbznBV3"
      }
    },
    {
      "cell_type": "code",
      "source": [
        "knn = KNeighborsClassifier()\n",
        "knn.fit(X_train, y_train)\n",
        "y_pred_knn = knn.predict(X_test)\n",
        "print(\"K-Nearest Neighbors\")\n",
        "print(\"Accuracy:\", accuracy_score(y_test, y_pred_knn))\n",
        "print(\"Confusion Matrix:\\n\", confusion_matrix(y_test, y_pred_knn))\n",
        "print(\"Classification Report:\\n\", classification_report(y_test, y_pred_knn))"
      ],
      "metadata": {
        "colab": {
          "base_uri": "https://localhost:8080/"
        },
        "id": "kCdQgqQZnD7V",
        "outputId": "490d747f-5ef5-4c82-c7fb-991433b1fe46"
      },
      "execution_count": 90,
      "outputs": [
        {
          "output_type": "stream",
          "name": "stdout",
          "text": [
            "K-Nearest Neighbors\n",
            "Accuracy: 0.7725118483412322\n",
            "Confusion Matrix:\n",
            " [[70 23]\n",
            " [25 93]]\n",
            "Classification Report:\n",
            "               precision    recall  f1-score   support\n",
            "\n",
            "           0       0.74      0.75      0.74        93\n",
            "           1       0.80      0.79      0.79       118\n",
            "\n",
            "    accuracy                           0.77       211\n",
            "   macro avg       0.77      0.77      0.77       211\n",
            "weighted avg       0.77      0.77      0.77       211\n",
            "\n"
          ]
        }
      ]
    },
    {
      "cell_type": "markdown",
      "source": [
        "10.\tمدل رگرسیون لوژستیک با جریمه لاسو"
      ],
      "metadata": {
        "id": "-Scjajg6nOlr"
      }
    },
    {
      "cell_type": "code",
      "source": [
        "# Create the model with Lasso (L1) regularization\n",
        "logistic_reg = LogisticRegression(penalty='l1', solver='liblinear', random_state=42)\n",
        "\n",
        "# Fit the model to the scaled training data\n",
        "logistic_reg.fit(X_train, y_train)\n",
        "\n",
        "# Predict on the test set\n",
        "y_pred_las = logistic_reg.predict(X_test)\n",
        "\n",
        "# Evaluate accuracy\n",
        "accuracy = accuracy_score(y_test, y_pred_las)\n",
        "print(\"Accuracy:\", accuracy)\n",
        "\n",
        "# Print confusion matrix and classification report\n",
        "print(\"Confusion Matrix:\\n\", confusion_matrix(y_test, y_pred_las))\n",
        "print(\"\\nClassification Report:\\n\", classification_report(y_test, y_pred_las))"
      ],
      "metadata": {
        "colab": {
          "base_uri": "https://localhost:8080/"
        },
        "id": "XqjdMg1DnSOr",
        "outputId": "5a7ff8df-9f32-454c-d1e2-f9e53fb62987"
      },
      "execution_count": 91,
      "outputs": [
        {
          "output_type": "stream",
          "name": "stdout",
          "text": [
            "Accuracy: 0.8009478672985783\n",
            "Confusion Matrix:\n",
            " [[72 21]\n",
            " [21 97]]\n",
            "\n",
            "Classification Report:\n",
            "               precision    recall  f1-score   support\n",
            "\n",
            "           0       0.77      0.77      0.77        93\n",
            "           1       0.82      0.82      0.82       118\n",
            "\n",
            "    accuracy                           0.80       211\n",
            "   macro avg       0.80      0.80      0.80       211\n",
            "weighted avg       0.80      0.80      0.80       211\n",
            "\n"
          ]
        }
      ]
    },
    {
      "cell_type": "code",
      "source": [
        "11. منحنی راک"
      ],
      "metadata": {
        "id": "8trBs_B0offs"
      },
      "execution_count": null,
      "outputs": []
    },
    {
      "cell_type": "code",
      "source": [
        "def plot_roc_curve(model, X_test, y_test, model_name):\n",
        "    # Predict probabilities\n",
        "    y_pred_proba = model.predict_proba(X_test)[:, 1]\n",
        "\n",
        "    # Calculate ROC curve\n",
        "    fpr, tpr, _ = roc_curve(y_test, y_pred_proba)\n",
        "\n",
        "    # Calculate AUC\n",
        "    roc_auc = auc(fpr, tpr)\n",
        "\n",
        "    # Plot ROC curve\n",
        "    plt.figure(figsize=(8, 6))\n",
        "    plt.plot(fpr, tpr, color='darkorange', lw=2, label='ROC curve (area = %0.2f)' % roc_auc)\n",
        "    plt.plot([0, 1], [0, 1], color='navy', lw=2, linestyle='--')\n",
        "    plt.xlim([0.0, 1.0])\n",
        "    plt.ylim([0.0, 1.05])\n",
        "    plt.xlabel('False Positive Rate')\n",
        "    plt.ylabel('True Positive Rate')\n",
        "    plt.title('ROC Curve - ' + model_name)\n",
        "    plt.legend(loc=\"lower right\")\n",
        "    plt.show()"
      ],
      "metadata": {
        "id": "F63Ee0TvohTM"
      },
      "execution_count": 96,
      "outputs": []
    },
    {
      "cell_type": "code",
      "source": [
        "# Assuming models are already trained and named accordingly\n",
        "models = {\n",
        "    'Decision Tree': dt,\n",
        "    'Random Forest': rf,\n",
        "    'SVM': svm,\n",
        "    'Logistic Regression': lr,\n",
        "    'KNN': knn,\n",
        "    'Logistic Regression (Lasso)': logistic_reg,  # Assuming logistic_reg is the model with Lasso penalty\n",
        "}\n",
        "\n",
        "for model_name, model in models.items():\n",
        "    plot_roc_curve(model, X_test, y_test, model_name)"
      ],
      "metadata": {
        "colab": {
          "base_uri": "https://localhost:8080/",
          "height": 1000
        },
        "id": "hq0rimKVo3K7",
        "outputId": "e711a08d-4d4b-4e5f-898b-231a573560a7"
      },
      "execution_count": 97,
      "outputs": [
        {
          "output_type": "display_data",
          "data": {
            "text/plain": [
              "<Figure size 800x600 with 1 Axes>"
            ],
            "image/png": "[encoded data removed]"
          },
          "metadata": {}
        },
        {
          "output_type": "display_data",
          "data": {
            "text/plain": [
              "<Figure size 800x600 with 1 Axes>"
            ],
            "image/png": "[encoded data removed]"
          },
          "metadata": {}
        },
        {
          "output_type": "display_data",
          "data": {
            "text/plain": [
              "<Figure size 800x600 with 1 Axes>"
            ],
            "image/png": "[encoded data removed]"
          },
          "metadata": {}
        },
        {
          "output_type": "display_data",
          "data": {
            "text/plain": [
              "<Figure size 800x600 with 1 Axes>"
            ],
            "image/png": "[encoded data removed]"
          },
          "metadata": {}
        },
        {
          "output_type": "display_data",
          "data": {
            "text/plain": [
              "<Figure size 800x600 with 1 Axes>"
            ],
            "image/png": "[encoded data removed]"
          },
          "metadata": {}
        },
        {
          "output_type": "display_data",
          "data": {
            "text/plain": [
              "<Figure size 800x600 with 1 Axes>"
            ],
            "image/png": "[encoded data removed]"
          },
          "metadata": {}
        }
      ]
    },
    {
      "cell_type": "markdown",
      "source": [
        "12. انتخاب مدل"
      ],
      "metadata": {
        "id": "RKtThcGWqJH7"
      }
    },
    {
      "cell_type": "markdown",
      "source": [
        "با توجه به مقادیر صحت هر مدل یکی از بهترین انتخاب‌ها مدل جنگل تصادفی با مقدار صحت 0.82 است."
      ],
      "metadata": {
        "id": "DWgsH_VgqMmD"
      }
    },
    {
      "cell_type": "markdown",
      "source": [
        "همچنین precision    recall  f1-score در این مدل از بقیه مدل‌ها بیشتر است."
      ],
      "metadata": {
        "id": "hJzSdz8_qjrL"
      }
    }
  ]
}