{
  "nbformat": 4,
  "nbformat_minor": 0,
  "metadata": {
    "colab": {
      "provenance": []
    },
    "kernelspec": {
      "name": "python3",
      "display_name": "Python 3"
    },
    "language_info": {
      "name": "python"
    }
  },
  "cells": [
    {
      "cell_type": "markdown",
      "source": [
        "سوال کدنویسی آزمون پایان ترم\n",
        "\n",
        "مرجان سهرابی"
      ],
      "metadata": {
        "id": "SC5PrADpt3Ly"
      }
    },
    {
      "cell_type": "code",
      "execution_count": 18,
      "metadata": {
        "id": "FsHwXAEytz7z"
      },
      "outputs": [],
      "source": [
        "# Import libraries and functions\n",
        "import tensorflow as tf\n",
        "from tensorflow.keras.datasets import mnist\n",
        "import numpy as np\n",
        "from tensorflow.keras.models import Sequential\n",
        "from tensorflow.keras.layers import Conv2D, MaxPooling2D, Flatten, Dense\n"
      ]
    },
    {
      "cell_type": "code",
      "source": [
        "# Load the MNIST dataset\n",
        "(X_train, y_train), (X_test, y_test) = mnist.load_data ()"
      ],
      "metadata": {
        "colab": {
          "base_uri": "https://localhost:8080/"
        },
        "id": "pd0ohkmSvGOH",
        "outputId": "82411f17-3c6e-48ed-c2cd-f39fb6098453"
      },
      "execution_count": 19,
      "outputs": [
        {
          "output_type": "stream",
          "name": "stdout",
          "text": [
            "Downloading data from https://storage.googleapis.com/tensorflow/tf-keras-datasets/mnist.npz\n",
            "11490434/11490434 [==============================] - 0s 0us/step\n"
          ]
        }
      ]
    },
    {
      "cell_type": "markdown",
      "source": [
        "از این دستور\n",
        "برای بارگذاری مجموعه داده استفاده می‌کنیم.\n",
        "این تابع مجموعه داده‌ها را به دو بخش آموزش\n",
        " و تست تقسیم می‌کند."
      ],
      "metadata": {
        "id": "b3wRnLRYvhnL"
      }
    },
    {
      "cell_type": "code",
      "source": [
        "# Reshape the data to fit the model\n",
        "X_train = X_train.reshape(X_train.shape[0], 28, 28, 1)\n",
        "X_test = X_test.reshape(X_test.shape[0], 28, 28, 1)"
      ],
      "metadata": {
        "id": "A1Wupz_56gNb"
      },
      "execution_count": 20,
      "outputs": []
    },
    {
      "cell_type": "markdown",
      "source": [
        "داده‌ها را به شکلی تبدیل می‌کنیم که با ورودی‌های شبکه عصبی پیچشی سازگار باشد. در اینجا، داده‌ها به فرم (تعداد تصاویر, ارتفاع, عرض, تعداد کانال‌ها) تغییر شکل داده می‌شوند."
      ],
      "metadata": {
        "id": "YTkNwqQ96egJ"
      }
    },
    {
      "cell_type": "code",
      "source": [
        "# Check the shape of data\n",
        "X_train.shape"
      ],
      "metadata": {
        "colab": {
          "base_uri": "https://localhost:8080/"
        },
        "id": "Q9xSw1v467q9",
        "outputId": "905987e5-dcb5-410b-bb44-87499291e0fb"
      },
      "execution_count": 21,
      "outputs": [
        {
          "output_type": "execute_result",
          "data": {
            "text/plain": [
              "(60000, 28, 28, 1)"
            ]
          },
          "metadata": {},
          "execution_count": 21
        }
      ]
    },
    {
      "cell_type": "code",
      "source": [
        "# Check the format of data\n",
        "type(X_train)"
      ],
      "metadata": {
        "colab": {
          "base_uri": "https://localhost:8080/"
        },
        "id": "ntD9j1cD79YI",
        "outputId": "830f5053-dccb-47ce-dfd6-5adfe5b7d1ac"
      },
      "execution_count": 22,
      "outputs": [
        {
          "output_type": "execute_result",
          "data": {
            "text/plain": [
              "numpy.ndarray"
            ]
          },
          "metadata": {},
          "execution_count": 22
        }
      ]
    },
    {
      "cell_type": "code",
      "source": [
        "# Normalize the data\n",
        "X_train = X_train.astype('float32') / 255\n",
        "X_test = X_test.astype('float32') / 255\n"
      ],
      "metadata": {
        "id": "YUEICOlw6akb"
      },
      "execution_count": 23,
      "outputs": []
    },
    {
      "cell_type": "markdown",
      "source": [
        "داده‌ها را به نوع عددی تبدیل کرده و نرمال‌سازی می‌کنیم تا مقادیر بین 0 و 1 قرار گیرند."
      ],
      "metadata": {
        "id": "5AIMm-VA6izE"
      }
    },
    {
      "cell_type": "code",
      "source": [
        "# Build the model\n",
        "model = Sequential()\n",
        "model.add(Conv2D(32, kernel_size=(3, 3), activation='relu', input_shape=(28, 28, 1)))\n",
        "model.add(MaxPooling2D(pool_size=(2, 2)))\n",
        "model.add(Conv2D(64, kernel_size=(3, 3), activation='relu'))\n",
        "model.add(MaxPooling2D(pool_size=(2, 2)))\n",
        "model.add(Flatten())\n",
        "model.add(Dense(128, activation='relu'))\n",
        "model.add(Dense(10, activation='softmax'))\n"
      ],
      "metadata": {
        "id": "tpaXStl18431"
      },
      "execution_count": 24,
      "outputs": []
    },
    {
      "cell_type": "markdown",
      "source": [
        "ابتدا یک مدل شبکه عصبی ایجاد میکنیم که یک دنباله از لایه ها را به ترتیب اجرا کند .\n",
        "\n",
        "لایه اول یک لایه پیچشی دو بعدی برای استخراج ویژگی ها است که 32 فیلتر در اندازه‌های 3 در 3 دارد به این معنا که ماتریس کرنل با بعد 3 در 3 در ماتریس تصاویر ضرب می‌شود. همچنین در این لایه تابع فعال‌ساز رلو است. ورودی این لایه ابعاد 28 در 28 است.\n",
        "\n",
        "لایه دوم از عملیات مکس-پولینگ برای کاهش بعد استفاده می‌کند. کرنل مکس-پول در این لایه 2 در 2 در نظر گرفته شده است.\n",
        "\n",
        "لایه سوم یک لایه پیچشی دو بعدی است که 64 فیلتر در اندازه‌های 3 در 3 دارد. تابع فعال‌ساز این لایه نیز رلو است.\n",
        "\n",
        "لایه چهارم مانند لایه دوم برای کاهش بعد است.\n",
        "\n",
        "لایه پنجم باعث تغییر ابعاد خروجی لایه های پیچشی به شکلی مناسب برای لایه های متصل می شود. به عبارت دیگر داده‌ها را با لایه فلتن، مسطح می‌کنیم.\n",
        "\n",
        "لایه ششم با ابعاد 128 و تابع فعال‌ساز رلو به این معناست که یک لایه کاملا متصل با 128 نورون و تابع فعال‌ساز رلو در انتهای مدل اضافه شده است.\n",
        "\n",
        "لایه هفتم نیز با ابعاد 10 نورون و تابع فعال‌ساز سافت‌مکس به این معناست که یک لایه کاملا متصل با 10 نورون و تابع فعال‌ساز سافت‌مکس برای انجام دسته‌بندی چندگانه استفاده شده است."
      ],
      "metadata": {
        "id": "K9BKlRBUfI2-"
      }
    },
    {
      "cell_type": "markdown",
      "source": [
        "یک مدل\n",
        "Sequential\n",
        "ایجاد می‌کنیم.\n",
        "لایه‌های Conv2D و MaxPooling2D را به ترتیب برای استخراج ویژگی‌ها و کاهش ابعاد اضافه می‌کنیم.\n",
        "داده‌ها را با لایه Flatten مسطح می‌کنیم.\n",
        "یک لایه Dense با 128 نورون و یک لایه خروجی Dense با 10 نورون (به ازای هر کلاس یکی) با فعال‌سازی softmax اضافه می‌کنیم.\n",
        "مدل را با استفاده از adam بهینه‌سازی و sparse_categorical_crossentropy به عنوان تابع هزینه کامپایل می‌کنیم.\n",
        "مدل را با 5 دوره (epochs) و اندازه دسته (batch size) 128 آموزش می‌دهیم."
      ],
      "metadata": {
        "id": "FG-DwCzq9xBn"
      }
    },
    {
      "cell_type": "code",
      "source": [
        "# Compile the model\n",
        "model.compile(optimizer='adam', loss='sparse_categorical_crossentropy', metrics=['accuracy'])\n",
        "\n",
        "# Train the model\n",
        "model.fit(X_train, y_train, epochs=5, batch_size=128, validation_data=(X_test, y_test))\n"
      ],
      "metadata": {
        "colab": {
          "base_uri": "https://localhost:8080/"
        },
        "id": "wlzCcOFNl-nd",
        "outputId": "49cf571e-d717-4312-ef1a-2bd790391dd8"
      },
      "execution_count": 25,
      "outputs": [
        {
          "output_type": "stream",
          "name": "stdout",
          "text": [
            "Epoch 1/5\n",
            "469/469 [==============================] - 48s 100ms/step - loss: 0.2079 - accuracy: 0.9392 - val_loss: 0.0593 - val_accuracy: 0.9815\n",
            "Epoch 2/5\n",
            "469/469 [==============================] - 52s 112ms/step - loss: 0.0561 - accuracy: 0.9829 - val_loss: 0.0434 - val_accuracy: 0.9864\n",
            "Epoch 3/5\n",
            "469/469 [==============================] - 51s 109ms/step - loss: 0.0391 - accuracy: 0.9879 - val_loss: 0.0395 - val_accuracy: 0.9877\n",
            "Epoch 4/5\n",
            "469/469 [==============================] - 47s 101ms/step - loss: 0.0299 - accuracy: 0.9910 - val_loss: 0.0315 - val_accuracy: 0.9897\n",
            "Epoch 5/5\n",
            "469/469 [==============================] - 49s 105ms/step - loss: 0.0226 - accuracy: 0.9931 - val_loss: 0.0279 - val_accuracy: 0.9909\n"
          ]
        },
        {
          "output_type": "execute_result",
          "data": {
            "text/plain": [
              "<keras.src.callbacks.History at 0x7e238a938910>"
            ]
          },
          "metadata": {},
          "execution_count": 25
        }
      ]
    },
    {
      "cell_type": "markdown",
      "source": [
        "الگوریتم استفاده شده برای بهینه‌سازی در مدل آدام است. تابع هزینه با لاس نشان داده شده است که\n",
        "\n",
        "sparse_categorical_crossentropy\n",
        "\n",
        "است. به جهت اینکه مسئله ما یک مسئله دسته‌بندی 10 دسته‌ای است (از صفر تا 9) از این تابه هزینه استفاده می‌کنیم. همچنین این تابع برای مسائلی که برچسب‌ها به صورت اعداد صحیح هستند مناسب است. همچنین برای ارزیابی مدل از معیار دقت استفاده شده است.\n",
        "\n",
        "در نهایت مدل را با 5 دوره (ایپاک) و اندازه دسته (بچ سایز) 128 بر روی داده‌های آموزشی، آموزش می‌دهیم."
      ],
      "metadata": {
        "id": "wmXkNnLOmAoq"
      }
    },
    {
      "cell_type": "code",
      "source": [
        "import numpy as np\n",
        "\n",
        "# Select a random sample from the test set\n",
        "random_index = np.random.randint(0, X_test.shape[0])\n",
        "sample_image = X_test[random_index]\n",
        "sample_label = y_test[random_index]\n",
        "\n",
        "# Predict the label for the selected sample\n",
        "predicted_label = model.predict(np.expand_dims(sample_image, axis=0))\n",
        "predicted_label = np.argmax(predicted_label)\n",
        "\n",
        "print(f'True label: {sample_label}, Predicted label: {predicted_label}')\n"
      ],
      "metadata": {
        "colab": {
          "base_uri": "https://localhost:8080/"
        },
        "id": "Ew-NV1zG95kF",
        "outputId": "5855f45e-b11f-4d4b-ead2-71197f012ed0"
      },
      "execution_count": 26,
      "outputs": [
        {
          "output_type": "stream",
          "name": "stdout",
          "text": [
            "1/1 [==============================] - 0s 133ms/step\n",
            "True label: 9, Predicted label: 9\n"
          ]
        }
      ]
    },
    {
      "cell_type": "markdown",
      "source": [
        "یک نمونه تصادفی از مجموعه تست انتخاب می‌کنیم.\n",
        "برچسب واقعی و تصویر نمونه را می‌گیریم.\n",
        "پیش‌بینی برچسب نمونه با استفاده از مدل آموزش دیده را انجام می‌دهیم.\n",
        "برچسب پیش‌بینی شده را با استفاده از آرگ‌ماکس که بیشترین احتمال را دارد، پیدا می‌کنیم.\n",
        "برچسب واقعی و برچسب پیش‌بینی شده را چاپ می‌کنیم که ملاحظه می‌شود درست تشخیص داده است."
      ],
      "metadata": {
        "id": "BwfNAYvS-dUd"
      }
    },
    {
      "cell_type": "code",
      "source": [
        "test_loss,test_accuracy = model.evaluate(X_test, y_test)\n",
        "print(test_loss)\n",
        "print(test_accuracy)"
      ],
      "metadata": {
        "colab": {
          "base_uri": "https://localhost:8080/"
        },
        "id": "QcsO8-Ax-d4V",
        "outputId": "86f0b894-2f0e-4939-8262-9f69ff2eb042"
      },
      "execution_count": 27,
      "outputs": [
        {
          "output_type": "stream",
          "name": "stdout",
          "text": [
            "313/313 [==============================] - 3s 8ms/step - loss: 0.0279 - accuracy: 0.9909\n",
            "0.027912842109799385\n",
            "0.9908999800682068\n"
          ]
        }
      ]
    },
    {
      "cell_type": "markdown",
      "source": [
        "در نهایت ملاحظه می‌شود که مقدار زیان 0.0295 است که مقدار کوچک و مناسبی است. دقت مدل نیز 0.99 اندازه‌گیری شده است. این دقت بالا به جهت استفاده از لایه‌های مناسب در برازش مدل سی ان ان است."
      ],
      "metadata": {
        "id": "3QM-Omtl-ou1"
      }
    },
    {
      "cell_type": "markdown",
      "source": [
        "\n",
        "---\n",
        "در ادامه تصویر گرفته شده با گوشی را به مدل برازش داده شده می‌دهیم تا مدل تشخیص دهد چه عددی در تصویر است. عدد 3 به صورت دستی در تصویر نوشته شده است. تصویر مورد نظر به ابعاد مناسب تبدیل شده است."
      ],
      "metadata": {
        "id": "PAVGTvp8h9Vo"
      }
    },
    {
      "cell_type": "code",
      "source": [
        "import cv2\n",
        "from google.colab import files\n",
        "\n",
        "# Load the image\n",
        "uploaded = files.upload()\n",
        "image_path = next(iter(uploaded.keys()))\n",
        "print(f\"User uploaded file '{image_path}'\")\n",
        "\n",
        "import cv2\n",
        "from google.colab.patches import cv2_imshow\n",
        "\n",
        "# Load the image in grayscale\n",
        "image = cv2.imread(image_path, cv2.IMREAD_GRAYSCALE)"
      ],
      "metadata": {
        "colab": {
          "base_uri": "https://localhost:8080/",
          "height": 90
        },
        "id": "Er2nsZP6h3ze",
        "outputId": "93b87df5-04ae-47f2-d9dd-d2c2c240ccf4"
      },
      "execution_count": 28,
      "outputs": [
        {
          "output_type": "display_data",
          "data": {
            "text/plain": [
              "<IPython.core.display.HTML object>"
            ],
            "text/html": [
              "\n",
              "     <input type=\"file\" id=\"files-a6cb2ace-5786-4a5d-873a-b5544827472e\" name=\"files[]\" multiple disabled\n",
              "        style=\"border:none\" />\n",
              "     <output id=\"result-a6cb2ace-5786-4a5d-873a-b5544827472e\">\n",
              "      Upload widget is only available when the cell has been executed in the\n",
              "      current browser session. Please rerun this cell to enable.\n",
              "      </output>\n",
              "      <script>// Copyright 2017 Google LLC\n",
              "//\n",
              "// Licensed under the Apache License, Version 2.0 (the \"License\");\n",
              "// you may not use this file except in compliance with the License.\n",
              "// You may obtain a copy of the License at\n",
              "//\n",
              "//      http://www.apache.org/licenses/LICENSE-2.0\n",
              "//\n",
              "// Unless required by applicable law or agreed to in writing, software\n",
              "// distributed under the License is distributed on an \"AS IS\" BASIS,\n",
              "// WITHOUT WARRANTIES OR CONDITIONS OF ANY KIND, either express or implied.\n",
              "// See the License for the specific language governing permissions and\n",
              "// limitations under the License.\n",
              "\n",
              "/**\n",
              " * @fileoverview Helpers for google.colab Python module.\n",
              " */\n",
              "(function(scope) {\n",
              "function span(text, styleAttributes = {}) {\n",
              "  const element = document.createElement('span');\n",
              "  element.textContent = text;\n",
              "  for (const key of Object.keys(styleAttributes)) {\n",
              "    element.style[key] = styleAttributes[key];\n",
              "  }\n",
              "  return element;\n",
              "}\n",
              "\n",
              "// Max number of bytes which will be uploaded at a time.\n",
              "const MAX_PAYLOAD_SIZE = 100 * 1024;\n",
              "\n",
              "function _uploadFiles(inputId, outputId) {\n",
              "  const steps = uploadFilesStep(inputId, outputId);\n",
              "  const outputElement = document.getElementById(outputId);\n",
              "  // Cache steps on the outputElement to make it available for the next call\n",
              "  // to uploadFilesContinue from Python.\n",
              "  outputElement.steps = steps;\n",
              "\n",
              "  return _uploadFilesContinue(outputId);\n",
              "}\n",
              "\n",
              "// This is roughly an async generator (not supported in the browser yet),\n",
              "// where there are multiple asynchronous steps and the Python side is going\n",
              "// to poll for completion of each step.\n",
              "// This uses a Promise to block the python side on completion of each step,\n",
              "// then passes the result of the previous step as the input to the next step.\n",
              "function _uploadFilesContinue(outputId) {\n",
              "  const outputElement = document.getElementById(outputId);\n",
              "  const steps = outputElement.steps;\n",
              "\n",
              "  const next = steps.next(outputElement.lastPromiseValue);\n",
              "  return Promise.resolve(next.value.promise).then((value) => {\n",
              "    // Cache the last promise value to make it available to the next\n",
              "    // step of the generator.\n",
              "    outputElement.lastPromiseValue = value;\n",
              "    return next.value.response;\n",
              "  });\n",
              "}\n",
              "\n",
              "/**\n",
              " * Generator function which is called between each async step of the upload\n",
              " * process.\n",
              " * @param {string} inputId Element ID of the input file picker element.\n",
              " * @param {string} outputId Element ID of the output display.\n",
              " * @return {!Iterable<!Object>} Iterable of next steps.\n",
              " */\n",
              "function* uploadFilesStep(inputId, outputId) {\n",
              "  const inputElement = document.getElementById(inputId);\n",
              "  inputElement.disabled = false;\n",
              "\n",
              "  const outputElement = document.getElementById(outputId);\n",
              "  outputElement.innerHTML = '';\n",
              "\n",
              "  const pickedPromise = new Promise((resolve) => {\n",
              "    inputElement.addEventListener('change', (e) => {\n",
              "      resolve(e.target.files);\n",
              "    });\n",
              "  });\n",
              "\n",
              "  const cancel = document.createElement('button');\n",
              "  inputElement.parentElement.appendChild(cancel);\n",
              "  cancel.textContent = 'Cancel upload';\n",
              "  const cancelPromise = new Promise((resolve) => {\n",
              "    cancel.onclick = () => {\n",
              "      resolve(null);\n",
              "    };\n",
              "  });\n",
              "\n",
              "  // Wait for the user to pick the files.\n",
              "  const files = yield {\n",
              "    promise: Promise.race([pickedPromise, cancelPromise]),\n",
              "    response: {\n",
              "      action: 'starting',\n",
              "    }\n",
              "  };\n",
              "\n",
              "  cancel.remove();\n",
              "\n",
              "  // Disable the input element since further picks are not allowed.\n",
              "  inputElement.disabled = true;\n",
              "\n",
              "  if (!files) {\n",
              "    return {\n",
              "      response: {\n",
              "        action: 'complete',\n",
              "      }\n",
              "    };\n",
              "  }\n",
              "\n",
              "  for (const file of files) {\n",
              "    const li = document.createElement('li');\n",
              "    li.append(span(file.name, {fontWeight: 'bold'}));\n",
              "    li.append(span(\n",
              "        `(${file.type || 'n/a'}) - ${file.size} bytes, ` +\n",
              "        `last modified: ${\n",
              "            file.lastModifiedDate ? file.lastModifiedDate.toLocaleDateString() :\n",
              "                                    'n/a'} - `));\n",
              "    const percent = span('0% done');\n",
              "    li.appendChild(percent);\n",
              "\n",
              "    outputElement.appendChild(li);\n",
              "\n",
              "    const fileDataPromise = new Promise((resolve) => {\n",
              "      const reader = new FileReader();\n",
              "      reader.onload = (e) => {\n",
              "        resolve(e.target.result);\n",
              "      };\n",
              "      reader.readAsArrayBuffer(file);\n",
              "    });\n",
              "    // Wait for the data to be ready.\n",
              "    let fileData = yield {\n",
              "      promise: fileDataPromise,\n",
              "      response: {\n",
              "        action: 'continue',\n",
              "      }\n",
              "    };\n",
              "\n",
              "    // Use a chunked sending to avoid message size limits. See b/62115660.\n",
              "    let position = 0;\n",
              "    do {\n",
              "      const length = Math.min(fileData.byteLength - position, MAX_PAYLOAD_SIZE);\n",
              "      const chunk = new Uint8Array(fileData, position, length);\n",
              "      position += length;\n",
              "\n",
              "      const base64 = btoa(String.fromCharCode.apply(null, chunk));\n",
              "      yield {\n",
              "        response: {\n",
              "          action: 'append',\n",
              "          file: file.name,\n",
              "          data: base64,\n",
              "        },\n",
              "      };\n",
              "\n",
              "      let percentDone = fileData.byteLength === 0 ?\n",
              "          100 :\n",
              "          Math.round((position / fileData.byteLength) * 100);\n",
              "      percent.textContent = `${percentDone}% done`;\n",
              "\n",
              "    } while (position < fileData.byteLength);\n",
              "  }\n",
              "\n",
              "  // All done.\n",
              "  yield {\n",
              "    response: {\n",
              "      action: 'complete',\n",
              "    }\n",
              "  };\n",
              "}\n",
              "\n",
              "scope.google = scope.google || {};\n",
              "scope.google.colab = scope.google.colab || {};\n",
              "scope.google.colab._files = {\n",
              "  _uploadFiles,\n",
              "  _uploadFilesContinue,\n",
              "};\n",
              "})(self);\n",
              "</script> "
            ]
          },
          "metadata": {}
        },
        {
          "output_type": "stream",
          "name": "stdout",
          "text": [
            "Saving image.jpeg to image (5).jpeg\n",
            "User uploaded file 'image (5).jpeg'\n"
          ]
        }
      ]
    },
    {
      "cell_type": "markdown",
      "source": [
        "با استفاده از دستور آپلود تصویر گرفته شده وارد فضای ابری و پایتون می‌شود. سپس فایل آپلود شده را به صورت یک تصویر سیاه سفید معرفی می‌کنیم."
      ],
      "metadata": {
        "id": "6jIg5Hsckfub"
      }
    },
    {
      "cell_type": "code",
      "source": [
        "# Check the current dimensions of the image\n",
        "current_dimensions = image.shape\n",
        "print(f\"Current dimensions: {current_dimensions}\")"
      ],
      "metadata": {
        "colab": {
          "base_uri": "https://localhost:8080/"
        },
        "id": "0rP-YMz-iybk",
        "outputId": "798079aa-fe4b-4561-e3a8-f2a904214e56"
      },
      "execution_count": 29,
      "outputs": [
        {
          "output_type": "stream",
          "name": "stdout",
          "text": [
            "Current dimensions: (28, 28)\n"
          ]
        }
      ]
    },
    {
      "cell_type": "markdown",
      "source": [
        "با استفاده از این دستور چک می‌شود که آیا ابعاد تصویر با ابعاد داده‌های برازش داده شده به مدل یکسان و 28 در 28 است یا خیر. ملاحظه می‌شود که ابعاد تصویر گرفته شده 28 در 28 است."
      ],
      "metadata": {
        "id": "s1F7PGTukxG6"
      }
    },
    {
      "cell_type": "code",
      "source": [
        "# Normalize the image\n",
        "image = image.astype('float32') / 255"
      ],
      "metadata": {
        "id": "JZri4o-tkWGi"
      },
      "execution_count": 30,
      "outputs": []
    },
    {
      "cell_type": "markdown",
      "source": [
        "تصویر مد نظر را استاندارد سازی به روش مین-مکس می‌کنیم."
      ],
      "metadata": {
        "id": "-pDyJzTNnOj4"
      }
    },
    {
      "cell_type": "code",
      "source": [
        "# Reshape the image to match the model input\n",
        "image = image.reshape(1, 28, 28, 1)"
      ],
      "metadata": {
        "id": "ZtYylLrEnPH0"
      },
      "execution_count": 31,
      "outputs": []
    },
    {
      "cell_type": "markdown",
      "source": [
        "تصویر را از شکل ماتریسی خارج کرده و به صورت برداری تعریف می‌کنیم."
      ],
      "metadata": {
        "id": "Ph4RPl7tnvQu"
      }
    },
    {
      "cell_type": "code",
      "source": [
        "# Predict the digit from a new image\n",
        "prediction = model.predict(image)\n",
        "\n",
        "# Get the predicted label\n",
        "predicted_label = np.argmax(prediction)\n",
        "print(f'Predicted label: {predicted_label}')"
      ],
      "metadata": {
        "colab": {
          "base_uri": "https://localhost:8080/"
        },
        "id": "ZZB-_Bv0nvlH",
        "outputId": "ef36cedb-a95d-4a68-af41-09a64af2d572"
      },
      "execution_count": 32,
      "outputs": [
        {
          "output_type": "stream",
          "name": "stdout",
          "text": [
            "1/1 [==============================] - 0s 21ms/step\n",
            "Predicted label: 7\n"
          ]
        }
      ]
    },
    {
      "cell_type": "markdown",
      "source": [
        "از آن جایی که تصویر عدد 3 در ابعاد بسیار کوچک نزدیک به عدد 7 است، مدل برازش داده شده به اشتباه عدد 7 را پیش‌بینی کرده است.\n",
        "\n",
        "بار دیگر دستورات بالا را برای عدد 0 انجام می‌دهیم. این بار برای نوشتن عدد از خودکار مشکی تری استفاده می‌کنیم."
      ],
      "metadata": {
        "id": "mchEQ3Hcqlzl"
      }
    },
    {
      "cell_type": "code",
      "source": [
        "import cv2\n",
        "from google.colab import files\n",
        "\n",
        "# Load the image\n",
        "uploaded = files.upload()\n",
        "image_path = next(iter(uploaded.keys()))\n",
        "print(f\"User uploaded file '{image_path}'\")\n",
        "\n",
        "import cv2\n",
        "from google.colab.patches import cv2_imshow\n",
        "\n",
        "# Load the image in grayscale\n",
        "image = cv2.imread(image_path, cv2.IMREAD_GRAYSCALE)\n",
        "\n",
        "# Check the current dimensions of the image\n",
        "current_dimensions = image.shape\n",
        "print(f\"Current dimensions: {current_dimensions}\")\n",
        "\n",
        "# Resize the image to 28x28 pixels\n",
        "image = cv2.resize(image, (28, 28))\n",
        "\n",
        "# Normalize the image\n",
        "image = image.astype('float32') / 255\n",
        "\n",
        "# Reshape the image to match the model input\n",
        "image = image.reshape(1, 28, 28, 1)\n",
        "\n",
        "# Predict the digit from a new image\n",
        "prediction = model.predict(image)\n",
        "\n",
        "# Get the predicted label\n",
        "predicted_label = np.argmax(prediction)\n",
        "print(f'Predicted label: {predicted_label}')"
      ],
      "metadata": {
        "colab": {
          "base_uri": "https://localhost:8080/",
          "height": 142
        },
        "id": "hcq7FGIZrBRs",
        "outputId": "9228ac1c-6e61-4464-9d35-f3554d54b11e"
      },
      "execution_count": 41,
      "outputs": [
        {
          "output_type": "display_data",
          "data": {
            "text/plain": [
              "<IPython.core.display.HTML object>"
            ],
            "text/html": [
              "\n",
              "     <input type=\"file\" id=\"files-6cb76416-d7ec-4850-80ad-3f8064423c82\" name=\"files[]\" multiple disabled\n",
              "        style=\"border:none\" />\n",
              "     <output id=\"result-6cb76416-d7ec-4850-80ad-3f8064423c82\">\n",
              "      Upload widget is only available when the cell has been executed in the\n",
              "      current browser session. Please rerun this cell to enable.\n",
              "      </output>\n",
              "      <script>// Copyright 2017 Google LLC\n",
              "//\n",
              "// Licensed under the Apache License, Version 2.0 (the \"License\");\n",
              "// you may not use this file except in compliance with the License.\n",
              "// You may obtain a copy of the License at\n",
              "//\n",
              "//      http://www.apache.org/licenses/LICENSE-2.0\n",
              "//\n",
              "// Unless required by applicable law or agreed to in writing, software\n",
              "// distributed under the License is distributed on an \"AS IS\" BASIS,\n",
              "// WITHOUT WARRANTIES OR CONDITIONS OF ANY KIND, either express or implied.\n",
              "// See the License for the specific language governing permissions and\n",
              "// limitations under the License.\n",
              "\n",
              "/**\n",
              " * @fileoverview Helpers for google.colab Python module.\n",
              " */\n",
              "(function(scope) {\n",
              "function span(text, styleAttributes = {}) {\n",
              "  const element = document.createElement('span');\n",
              "  element.textContent = text;\n",
              "  for (const key of Object.keys(styleAttributes)) {\n",
              "    element.style[key] = styleAttributes[key];\n",
              "  }\n",
              "  return element;\n",
              "}\n",
              "\n",
              "// Max number of bytes which will be uploaded at a time.\n",
              "const MAX_PAYLOAD_SIZE = 100 * 1024;\n",
              "\n",
              "function _uploadFiles(inputId, outputId) {\n",
              "  const steps = uploadFilesStep(inputId, outputId);\n",
              "  const outputElement = document.getElementById(outputId);\n",
              "  // Cache steps on the outputElement to make it available for the next call\n",
              "  // to uploadFilesContinue from Python.\n",
              "  outputElement.steps = steps;\n",
              "\n",
              "  return _uploadFilesContinue(outputId);\n",
              "}\n",
              "\n",
              "// This is roughly an async generator (not supported in the browser yet),\n",
              "// where there are multiple asynchronous steps and the Python side is going\n",
              "// to poll for completion of each step.\n",
              "// This uses a Promise to block the python side on completion of each step,\n",
              "// then passes the result of the previous step as the input to the next step.\n",
              "function _uploadFilesContinue(outputId) {\n",
              "  const outputElement = document.getElementById(outputId);\n",
              "  const steps = outputElement.steps;\n",
              "\n",
              "  const next = steps.next(outputElement.lastPromiseValue);\n",
              "  return Promise.resolve(next.value.promise).then((value) => {\n",
              "    // Cache the last promise value to make it available to the next\n",
              "    // step of the generator.\n",
              "    outputElement.lastPromiseValue = value;\n",
              "    return next.value.response;\n",
              "  });\n",
              "}\n",
              "\n",
              "/**\n",
              " * Generator function which is called between each async step of the upload\n",
              " * process.\n",
              " * @param {string} inputId Element ID of the input file picker element.\n",
              " * @param {string} outputId Element ID of the output display.\n",
              " * @return {!Iterable<!Object>} Iterable of next steps.\n",
              " */\n",
              "function* uploadFilesStep(inputId, outputId) {\n",
              "  const inputElement = document.getElementById(inputId);\n",
              "  inputElement.disabled = false;\n",
              "\n",
              "  const outputElement = document.getElementById(outputId);\n",
              "  outputElement.innerHTML = '';\n",
              "\n",
              "  const pickedPromise = new Promise((resolve) => {\n",
              "    inputElement.addEventListener('change', (e) => {\n",
              "      resolve(e.target.files);\n",
              "    });\n",
              "  });\n",
              "\n",
              "  const cancel = document.createElement('button');\n",
              "  inputElement.parentElement.appendChild(cancel);\n",
              "  cancel.textContent = 'Cancel upload';\n",
              "  const cancelPromise = new Promise((resolve) => {\n",
              "    cancel.onclick = () => {\n",
              "      resolve(null);\n",
              "    };\n",
              "  });\n",
              "\n",
              "  // Wait for the user to pick the files.\n",
              "  const files = yield {\n",
              "    promise: Promise.race([pickedPromise, cancelPromise]),\n",
              "    response: {\n",
              "      action: 'starting',\n",
              "    }\n",
              "  };\n",
              "\n",
              "  cancel.remove();\n",
              "\n",
              "  // Disable the input element since further picks are not allowed.\n",
              "  inputElement.disabled = true;\n",
              "\n",
              "  if (!files) {\n",
              "    return {\n",
              "      response: {\n",
              "        action: 'complete',\n",
              "      }\n",
              "    };\n",
              "  }\n",
              "\n",
              "  for (const file of files) {\n",
              "    const li = document.createElement('li');\n",
              "    li.append(span(file.name, {fontWeight: 'bold'}));\n",
              "    li.append(span(\n",
              "        `(${file.type || 'n/a'}) - ${file.size} bytes, ` +\n",
              "        `last modified: ${\n",
              "            file.lastModifiedDate ? file.lastModifiedDate.toLocaleDateString() :\n",
              "                                    'n/a'} - `));\n",
              "    const percent = span('0% done');\n",
              "    li.appendChild(percent);\n",
              "\n",
              "    outputElement.appendChild(li);\n",
              "\n",
              "    const fileDataPromise = new Promise((resolve) => {\n",
              "      const reader = new FileReader();\n",
              "      reader.onload = (e) => {\n",
              "        resolve(e.target.result);\n",
              "      };\n",
              "      reader.readAsArrayBuffer(file);\n",
              "    });\n",
              "    // Wait for the data to be ready.\n",
              "    let fileData = yield {\n",
              "      promise: fileDataPromise,\n",
              "      response: {\n",
              "        action: 'continue',\n",
              "      }\n",
              "    };\n",
              "\n",
              "    // Use a chunked sending to avoid message size limits. See b/62115660.\n",
              "    let position = 0;\n",
              "    do {\n",
              "      const length = Math.min(fileData.byteLength - position, MAX_PAYLOAD_SIZE);\n",
              "      const chunk = new Uint8Array(fileData, position, length);\n",
              "      position += length;\n",
              "\n",
              "      const base64 = btoa(String.fromCharCode.apply(null, chunk));\n",
              "      yield {\n",
              "        response: {\n",
              "          action: 'append',\n",
              "          file: file.name,\n",
              "          data: base64,\n",
              "        },\n",
              "      };\n",
              "\n",
              "      let percentDone = fileData.byteLength === 0 ?\n",
              "          100 :\n",
              "          Math.round((position / fileData.byteLength) * 100);\n",
              "      percent.textContent = `${percentDone}% done`;\n",
              "\n",
              "    } while (position < fileData.byteLength);\n",
              "  }\n",
              "\n",
              "  // All done.\n",
              "  yield {\n",
              "    response: {\n",
              "      action: 'complete',\n",
              "    }\n",
              "  };\n",
              "}\n",
              "\n",
              "scope.google = scope.google || {};\n",
              "scope.google.colab = scope.google.colab || {};\n",
              "scope.google.colab._files = {\n",
              "  _uploadFiles,\n",
              "  _uploadFilesContinue,\n",
              "};\n",
              "})(self);\n",
              "</script> "
            ]
          },
          "metadata": {}
        },
        {
          "output_type": "stream",
          "name": "stdout",
          "text": [
            "Saving images.png to images.png\n",
            "User uploaded file 'images.png'\n",
            "Current dimensions: (211, 214)\n",
            "1/1 [==============================] - 0s 25ms/step\n",
            "Predicted label: 0\n"
          ]
        }
      ]
    },
    {
      "cell_type": "markdown",
      "source": [
        "این بار برای استفاده از مدل برازش داده شده از تصویر معکوس عدد صفر استفاده کردیم.\n",
        "\n",
        " به این معنا که عدد نوشته شده به رنگ سفید و زمینه آن رنگ مشکی است.\n",
        "\n",
        " همچنین سایز تصویر داده شده را از قبل 28 قرار نداده و با کد مورد نظر سایز آن را تبدیل به 28 در 28 کردیم.\n",
        "\n",
        "  ملاحظه می‌شود که نتیجه مطلوب بوده و برچسب صفر به درستی پیش بینی شده است."
      ],
      "metadata": {
        "id": "c-AezAtQxCBD"
      }
    }
  ]
}